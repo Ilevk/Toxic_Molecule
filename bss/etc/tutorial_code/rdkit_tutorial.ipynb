{
 "cells": [
  {
   "cell_type": "code",
   "execution_count": 1,
   "metadata": {},
   "outputs": [
    {
     "name": "stderr",
     "output_type": "stream",
     "text": [
      "RDKit WARNING: [00:21:06] Enabling RDKit 2019.09.3 jupyter extensions\n"
     ]
    }
   ],
   "source": [
    "# !conda install -c conda-forge rdkit\n",
    "from rdkit import Chem\n",
    "from rdkit.Chem import Draw\n",
    "\n",
    "import pandas as pd\n",
    "import numpy as np\n",
    "\n",
    "import matplotlib.pyplot as plt\n",
    "%matplotlib inline"
   ]
  },
  {
   "cell_type": "markdown",
   "metadata": {},
   "source": [
    "## simple impl. of rdkit.Chem"
   ]
  },
  {
   "cell_type": "code",
   "execution_count": 2,
   "metadata": {},
   "outputs": [
    {
     "data": {
      "image/png": "[encoded data removed]",
      "text/plain": [
       "<rdkit.Chem.rdchem.Mol at 0x118840170>"
      ]
     },
     "execution_count": 2,
     "metadata": {},
     "output_type": "execute_result"
    }
   ],
   "source": [
    "penicillin_g_smiles = 'CC1([C@@H](N2[C@H](S1)[C@@H](C2=O)NC(=O)Cc3ccccc3)C(=O)O)C'\n",
    "penicillin_g = Chem.MolFromSmiles(penicillin_g_smiles)\n",
    "penicillin_g\n",
    "# Draw.MolToMPL(penicillin_g, size=(200, 200))"
   ]
  },
  {
   "cell_type": "markdown",
   "metadata": {},
   "source": [
    "## impl."
   ]
  },
  {
   "cell_type": "code",
   "execution_count": 4,
   "metadata": {},
   "outputs": [],
   "source": [
    "df = pd.read_csv('../reference_data/train_molecule_new_features.csv')"
   ]
  },
  {
   "cell_type": "code",
   "execution_count": 5,
   "metadata": {},
   "outputs": [
    {
     "data": {
      "text/plain": [
       "'CC1=CC(N)=NO1'"
      ]
     },
     "execution_count": 5,
     "metadata": {},
     "output_type": "execute_result"
    }
   ],
   "source": [
    "sample = df['smiles'][0]\n",
    "sample"
   ]
  },
  {
   "cell_type": "code",
   "execution_count": 6,
   "metadata": {},
   "outputs": [
    {
     "data": {
      "image/png": "[encoded data removed]",
      "text/plain": [
       "<rdkit.Chem.rdchem.Mol at 0x11cd1f170>"
      ]
     },
     "execution_count": 6,
     "metadata": {},
     "output_type": "execute_result"
    }
   ],
   "source": [
    "sample_mol = Chem.MolFromSmiles(sample)\n",
    "sample_mol"
   ]
  },
  {
   "cell_type": "code",
   "execution_count": 7,
   "metadata": {},
   "outputs": [],
   "source": [
    "# thanks to https://github.com/masashitsubaki/molecularGNN_smiles/blob/master/main/preprocess.py\n",
    "\n",
    "\n",
    "def create_atoms(mol, atom_dict):\n",
    "    \"\"\"Transform the atom types in a molecule (e.g., H, C, and O)\n",
    "    into the indices (e.g., H=0, C=1, and O=2).\n",
    "    Note that each atom index considers the aromaticity.\n",
    "    \"\"\"\n",
    "    atoms = [a.GetSymbol() for a in mol.GetAtoms()]\n",
    "    for a in mol.GetAromaticAtoms():\n",
    "        i = a.GetIdx()\n",
    "        atoms[i] = (atoms[i], 'aromatic')\n",
    "    atoms = [atom_dict[a] for a in atoms]\n",
    "    return np.array(atoms)\n",
    "\n",
    "\n",
    "def create_ijbonddict(mol, bond_dict):\n",
    "    \"\"\"Create a dictionary, in which each key is a node ID\n",
    "    and each value is the tuples of its neighboring node\n",
    "    and chemical bond (e.g., single and double) IDs.\n",
    "    \"\"\"\n",
    "    i_jbond_dict = defaultdict(lambda: [])\n",
    "    for b in mol.GetBonds():\n",
    "        i, j = b.GetBeginAtomIdx(), b.GetEndAtomIdx()\n",
    "        bond = bond_dict[str(b.GetBondType())]\n",
    "        i_jbond_dict[i].append((j, bond))\n",
    "        i_jbond_dict[j].append((i, bond))\n",
    "    return i_jbond_dict"
   ]
  },
  {
   "cell_type": "code",
   "execution_count": 8,
   "metadata": {},
   "outputs": [],
   "source": [
    "from collections import defaultdict\n",
    "\n",
    "atom_dict = defaultdict(lambda: len(atom_dict))\n",
    "bond_dict = defaultdict(lambda: len(bond_dict))"
   ]
  },
  {
   "cell_type": "code",
   "execution_count": 9,
   "metadata": {},
   "outputs": [
    {
     "data": {
      "text/plain": [
       "array([0, 1, 1, 1, 2, 3, 4])"
      ]
     },
     "execution_count": 9,
     "metadata": {},
     "output_type": "execute_result"
    }
   ],
   "source": [
    "create_atoms(sample_mol, atom_dict)"
   ]
  },
  {
   "cell_type": "code",
   "execution_count": 10,
   "metadata": {},
   "outputs": [
    {
     "data": {
      "text/plain": [
       "defaultdict(<function __main__.create_ijbonddict.<locals>.<lambda>()>,\n",
       "            {0: [(1, 0)],\n",
       "             1: [(0, 0), (2, 1), (6, 1)],\n",
       "             2: [(1, 1), (3, 1)],\n",
       "             3: [(2, 1), (4, 0), (5, 1)],\n",
       "             4: [(3, 0)],\n",
       "             5: [(3, 1), (6, 1)],\n",
       "             6: [(5, 1), (1, 1)]})"
      ]
     },
     "execution_count": 10,
     "metadata": {},
     "output_type": "execute_result"
    }
   ],
   "source": [
    "create_ijbonddict(sample_mol, bond_dict)"
   ]
  }
 ],
 "metadata": {
  "kernelspec": {
   "display_name": "Python 3",
   "language": "python",
   "name": "python3"
  },
  "language_info": {
   "codemirror_mode": {
    "name": "ipython",
    "version": 3
   },
   "file_extension": ".py",
   "mimetype": "text/x-python",
   "name": "python",
   "nbconvert_exporter": "python",
   "pygments_lexer": "ipython3",
   "version": "3.7.3"
  }
 },
 "nbformat": 4,
 "nbformat_minor": 4
}
