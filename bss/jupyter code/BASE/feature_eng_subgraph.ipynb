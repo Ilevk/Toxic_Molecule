{
 "cells": [
  {
   "cell_type": "code",
   "execution_count": 1,
   "metadata": {},
   "outputs": [
    {
     "name": "stderr",
     "output_type": "stream",
     "text": [
      "RDKit WARNING: [00:07:00] Enabling RDKit 2019.09.3 jupyter extensions\n"
     ]
    }
   ],
   "source": [
    "import pandas as pd\n",
    "import numpy as np\n",
    "import seaborn as sns\n",
    "\n",
    "import matplotlib.pyplot as plt\n",
    "from rdkit import Chem\n",
    "%matplotlib inline"
   ]
  },
  {
   "cell_type": "code",
   "execution_count": 2,
   "metadata": {},
   "outputs": [],
   "source": [
    "CURRENT_PATH = '/Users/skcc10170/Desktop'\n",
    "df_train = pd.read_csv(CURRENT_PATH + '/data/org/train_.csv')\n",
    "df_valid = pd.read_csv(CURRENT_PATH + '/data/org/valid_.csv')\n",
    "df_test = pd.read_csv(CURRENT_PATH + '/data/org/predict_input.csv')"
   ]
  },
  {
   "cell_type": "code",
   "execution_count": 3,
   "metadata": {},
   "outputs": [],
   "source": [
    "df_train['idx'] = 'train'\n",
    "df_valid['idx'] = 'valid'\n",
    "df_test['idx'] = 'test'\n",
    "\n",
    "df_tot = pd.concat([df_train, df_valid, df_test], sort=True).reset_index(drop=True)"
   ]
  },
  {
   "cell_type": "code",
   "execution_count": 4,
   "metadata": {},
   "outputs": [
    {
     "data": {
      "text/plain": [
       "train    6680\n",
       "valid    1669\n",
       "test      927\n",
       "Name: idx, dtype: int64"
      ]
     },
     "execution_count": 4,
     "metadata": {},
     "output_type": "execute_result"
    }
   ],
   "source": [
    "df_tot['idx'].value_counts()"
   ]
  },
  {
   "cell_type": "code",
   "execution_count": 5,
   "metadata": {},
   "outputs": [
    {
     "data": {
      "text/plain": [
       "(6680, 1669, 927, 9276)"
      ]
     },
     "execution_count": 5,
     "metadata": {},
     "output_type": "execute_result"
    }
   ],
   "source": [
    "len(df_train), len(df_valid), len(df_test), len(df_tot)"
   ]
  },
  {
   "cell_type": "markdown",
   "metadata": {},
   "source": [
    "# 1. df_tot로 변환해서 /data/new 에 저장"
   ]
  },
  {
   "cell_type": "code",
   "execution_count": 88,
   "metadata": {},
   "outputs": [],
   "source": [
    "# MAX_LEN = 88개 원자가 최댓값\n",
    "MAX_LEN = df_tot['num_atoms'].max()"
   ]
  },
  {
   "cell_type": "code",
   "execution_count": 89,
   "metadata": {},
   "outputs": [],
   "source": [
    "LIST_SYMBOLS = list(set.union(*df_tot['SMILES'].apply(\n",
    "    lambda x: set([atom.GetSymbol() for atom in Chem.MolFromSmiles(x).GetAtoms()])).values))\n",
    "\n",
    "df_tot['atoms_list'] = df_tot['SMILES'].apply(lambda x: [atom.GetSymbol() for atom in Chem.MolFromSmiles(x).GetAtoms()])\n",
    "\n",
    "temp_df =  df_tot['atoms_list'].apply(lambda x: pd.Series(x).value_counts())\n",
    "for symbol in LIST_SYMBOLS:\n",
    "    df_tot['num_atom_'+symbol] = temp_df[symbol].replace(np.NaN, 0)\n",
    "del df_tot['atoms_list']\n",
    "\n",
    "df_tot['atoms_degree'] = df_tot['SMILES'].apply(lambda x: [atom.GetDegree() for atom in Chem.MolFromSmiles(x).GetAtoms()])\n",
    "temp_df = df_tot['atoms_degree'].apply(lambda x: pd.Series(x).value_counts())\n",
    "for symbol in [0,1,2,3,4,6]:\n",
    "    df_tot['num_degree_'+str(symbol)] = temp_df[symbol].replace(np.NaN, 0)\n",
    "del df_tot['atoms_degree']\n",
    "\n",
    "df_tot['atoms_numH'] = df_tot['SMILES'].apply(lambda x: [atom.GetTotalNumHs() for atom in Chem.MolFromSmiles(x).GetAtoms()])\n",
    "temp_df = df_tot['atoms_numH'].apply(lambda x: pd.Series(x).value_counts())\n",
    "for symbol in [0,1,2,3]:\n",
    "    df_tot['num_numH_'+str(symbol)] = temp_df[symbol].replace(np.NaN, 0)\n",
    "del df_tot['atoms_numH']\n",
    "\n",
    "df_tot['atoms_IV'] = df_tot['SMILES'].apply(lambda x: [atom.GetImplicitValence() for atom in Chem.MolFromSmiles(x).GetAtoms()])\n",
    "temp_df = df_tot['atoms_IV'].apply(lambda x: pd.Series(x).value_counts())\n",
    "for symbol in [0,1,2,3]:\n",
    "    df_tot['IV_'+str(symbol)] = temp_df[symbol].replace(np.NaN, 0)\n",
    "del df_tot['atoms_IV']\n",
    "\n",
    "df_tot['atoms_isAromatic'] = df_tot['SMILES'].apply(lambda x: sum([atom.GetIsAromatic() for atom in Chem.MolFromSmiles(x).GetAtoms()]))"
   ]
  },
  {
   "cell_type": "code",
   "execution_count": 90,
   "metadata": {},
   "outputs": [
    {
     "data": {
      "text/plain": [
       "'/Users/skcc10170/Desktop/GIT/Toxic_Molecule/bss/code/eda'"
      ]
     },
     "execution_count": 90,
     "metadata": {},
     "output_type": "execute_result"
    }
   ],
   "source": [
    "import os\n",
    "os.getcwd()"
   ]
  },
  {
   "cell_type": "code",
   "execution_count": 93,
   "metadata": {},
   "outputs": [],
   "source": [
    "df_train_new = df_tot[df_tot['idx'] == 'train']\n",
    "df_valid_new = df_tot[df_tot['idx'] == 'valid']\n",
    "df_test_new = df_tot[df_tot['idx'] == 'test']"
   ]
  },
  {
   "cell_type": "code",
   "execution_count": 96,
   "metadata": {},
   "outputs": [
    {
     "name": "stdout",
     "output_type": "stream",
     "text": [
      "True\n",
      "True\n",
      "True\n"
     ]
    }
   ],
   "source": [
    "print(len(df_train_new) == len(df_train))\n",
    "print(len(df_valid_new) == len(df_valid))\n",
    "print(len(df_test_new) == len(df_test))"
   ]
  },
  {
   "cell_type": "code",
   "execution_count": 97,
   "metadata": {},
   "outputs": [],
   "source": [
    "df_train_new.to_csv(CURRENT_PATH + '/data/new/train_.csv')\n",
    "df_valid_new.to_csv(CURRENT_PATH + '/data/new/valid_.csv')\n",
    "df_test_new.to_csv(CURRENT_PATH + '/data/new/test_.csv')"
   ]
  },
  {
   "cell_type": "markdown",
   "metadata": {},
   "source": [
    "# new feature generate"
   ]
  },
  {
   "cell_type": "code",
   "execution_count": 102,
   "metadata": {},
   "outputs": [],
   "source": [
    "from rdkit import Chem\n",
    "from rdkit.Chem import Descriptors\n",
    "\n",
    "for idx in range(1000):\n",
    "    temp = df_tot['SMILES'][idx]\n",
    "    temp = Chem.MolFromSmiles(temp)\n",
    "#     print(temp.GetNumConformers())"
   ]
  },
  {
   "cell_type": "code",
   "execution_count": 130,
   "metadata": {},
   "outputs": [
    {
     "data": {
      "text/plain": [
       "['N',\n",
       " 'C',\n",
       " 'C',\n",
       " 'C',\n",
       " 'C',\n",
       " 'C',\n",
       " 'N',\n",
       " 'C',\n",
       " 'C',\n",
       " 'C',\n",
       " 'C',\n",
       " 'C',\n",
       " 'C',\n",
       " 'C',\n",
       " 'N',\n",
       " 'C',\n",
       " 'C',\n",
       " 'N',\n",
       " 'C',\n",
       " 'C',\n",
       " 'N']"
      ]
     },
     "execution_count": 130,
     "metadata": {},
     "output_type": "execute_result"
    }
   ],
   "source": [
    "# rdkit.Chem.Descriptors3D.Asphericity(temp)\n",
    "[i.GetSymbol() for i in temp.GetAromaticAtoms()]"
   ]
  },
  {
   "cell_type": "code",
   "execution_count": 88,
   "metadata": {},
   "outputs": [
    {
     "name": "stdout",
     "output_type": "stream",
     "text": [
      "0 1 34\n",
      "C0 C1 C1 N2 N24 N2\n",
      "0 1 2\n",
      "C0 C1 C1 N2 N2 C3\n",
      "1 34 23\n",
      "C1 N2 N24 N2 C23 N24\n",
      "1 34 2\n",
      "C1 N2 N24 N2 N2 C3\n",
      "1 2 3\n",
      "C1 N2 N2 C3 C3 C4\n",
      "2 3 35\n",
      "N2 C3 C3 C4 C23 C4\n",
      "2 3 4\n",
      "N2 C3 C3 C4 C4 C5\n",
      "2 3 34\n",
      "N2 C3 C3 C4 N24 N2\n",
      "2 34 23\n",
      "N2 C3 N24 N2 C23 N24\n",
      "3 35 23\n",
      "C3 C4 C23 C4 C23 N24\n",
      "3 35 22\n",
      "C3 C4 C23 C4 C22 C23\n",
      "3 35 4\n",
      "C3 C4 C23 C4 C4 C5\n",
      "3 4 19\n",
      "C3 C4 C4 C5 C5 C20\n",
      "3 4 5\n",
      "C3 C4 C4 C5 C5 O6\n",
      "4 19 20\n",
      "C4 C5 C5 C20 C20 C21\n",
      "4 19 5\n",
      "C4 C5 C5 C20 C5 O6\n",
      "4 19 35\n",
      "C4 C5 C5 C20 C23 C4\n",
      "4 5 6\n",
      "C4 C5 C5 O6 O6 C7\n",
      "4 5 35\n",
      "C4 C5 C5 O6 C23 C4\n",
      "4 35 23\n",
      "C4 C5 C23 C4 C23 N24\n",
      "4 35 22\n",
      "C4 C5 C23 C4 C22 C23\n",
      "5 6 36\n",
      "C5 O6 O6 C7 C19 C7\n",
      "5 6 7\n",
      "C5 O6 O6 C7 C7 C8\n",
      "5 6 19\n",
      "C5 O6 O6 C7 C5 C20\n",
      "5 19 20\n",
      "C5 O6 C5 C20 C20 C21\n",
      "6 36 18\n",
      "O6 C7 C19 C7 C17 C19\n",
      "6 36 7\n",
      "O6 C7 C19 C7 C7 C8\n",
      "6 7 8\n",
      "O6 C7 C7 C8 C8 N9\n",
      "7 8 9\n",
      "C7 C8 C8 N9 N9 C10\n",
      "7 8 36\n",
      "C7 C8 C8 N9 C19 C7\n",
      "7 36 18\n",
      "C7 C8 C19 C7 C17 C19\n",
      "8 9 16\n",
      "C8 N9 N9 C10 C10 C17\n",
      "8 9 10\n",
      "C8 N9 N9 C10 C10 C11\n",
      "9 16 18\n",
      "N9 C10 C10 C17 C17 C19\n",
      "9 16 17\n",
      "N9 C10 C10 C17 C17 F18\n",
      "9 16 10\n",
      "N9 C10 C10 C17 C10 C11\n",
      "9 10 12\n",
      "N9 C10 C10 C11 C11 N13\n",
      "9 10 11\n",
      "N9 C10 C10 C11 C11 O12\n",
      "10 12 37\n",
      "C10 C11 C11 N13 C16 N13\n",
      "10 12 13\n",
      "C10 C11 C11 N13 N13 C14\n",
      "10 12 11\n",
      "C10 C11 C11 N13 C11 O12\n",
      "10 12 16\n",
      "C10 C11 C11 N13 C10 C17\n",
      "10 11 16\n",
      "C10 C11 C11 O12 C10 C17\n",
      "10 16 18\n",
      "C10 C11 C10 C17 C17 C19\n",
      "10 16 17\n",
      "C10 C11 C10 C17 C17 F18\n",
      "11 12 37\n",
      "C11 O12 C11 N13 C16 N13\n",
      "11 12 13\n",
      "C11 O12 C11 N13 N13 C14\n",
      "12 37 15\n",
      "C11 N13 C16 N13 C15 C16\n",
      "12 37 13\n",
      "C11 N13 C16 N13 N13 C14\n",
      "12 13 14\n",
      "C11 N13 N13 C14 C14 C15\n",
      "13 14 15\n",
      "N13 C14 C14 C15 C15 C16\n",
      "13 14 37\n",
      "N13 C14 C14 C15 C16 N13\n",
      "13 37 15\n",
      "N13 C14 C16 N13 C15 C16\n",
      "14 15 37\n",
      "C14 C15 C15 C16 C16 N13\n",
      "16 18 36\n",
      "C10 C17 C17 C19 C19 C7\n",
      "16 18 17\n",
      "C10 C17 C17 C19 C17 F18\n",
      "17 18 36\n",
      "C17 F18 C17 C19 C19 C7\n",
      "19 20 24\n",
      "C5 C20 C20 C21 C21 C25\n",
      "19 20 21\n",
      "C5 C20 C20 C21 C21 C22\n",
      "20 24 26\n",
      "C20 C21 C21 C25 C25 N27\n",
      "20 24 25\n",
      "C20 C21 C21 C25 C25 O26\n",
      "20 24 21\n",
      "C20 C21 C21 C25 C21 C22\n",
      "20 21 22\n",
      "C20 C21 C21 C22 C22 C23\n",
      "21 22 35\n",
      "C21 C22 C22 C23 C23 C4\n",
      "21 22 23\n",
      "C21 C22 C22 C23 C23 N24\n",
      "21 22 24\n",
      "C21 C22 C22 C23 C21 C25\n",
      "21 24 26\n",
      "C21 C22 C21 C25 C25 N27\n",
      "21 24 25\n",
      "C21 C22 C21 C25 C25 O26\n",
      "22 35 23\n",
      "C22 C23 C23 C4 C23 N24\n",
      "22 23 34\n",
      "C22 C23 C23 N24 N24 N2\n",
      "23 34 35\n",
      "C23 N24 N24 N2 C23 C4\n",
      "24 26 27\n",
      "C21 C25 C25 N27 N27 C28\n",
      "24 26 25\n",
      "C21 C25 C25 N27 C25 O26\n",
      "25 26 27\n",
      "C25 O26 C25 N27 N27 C28\n",
      "26 27 38\n",
      "C25 N27 N27 C28 N34 C28\n",
      "26 27 28\n",
      "C25 N27 N27 C28 C28 C29\n",
      "27 38 33\n",
      "N27 C28 N34 C28 C33 N34\n",
      "27 38 28\n",
      "N27 C28 N34 C28 C28 C29\n",
      "27 28 29\n",
      "N27 C28 C28 C29 C29 N30\n",
      "28 29 30\n",
      "C28 C29 C29 N30 N30 C31\n",
      "28 29 38\n",
      "C28 C29 C29 N30 N34 C28\n",
      "28 38 33\n",
      "C28 C29 N34 C28 C33 N34\n",
      "29 30 32\n",
      "C29 N30 N30 C31 C31 C33\n",
      "29 30 31\n",
      "C29 N30 N30 C31 C31 C32\n",
      "30 32 33\n",
      "N30 C31 C31 C33 C33 N34\n",
      "30 32 31\n",
      "N30 C31 C31 C33 C31 C32\n",
      "31 32 33\n",
      "C31 C32 C31 C33 C33 N34\n",
      "32 33 38\n",
      "C31 C33 C33 N34 N34 C28\n"
     ]
    }
   ],
   "source": [
    "for i in Chem.rdmolops.FindAllSubgraphsOfLengthN(temp, 3):\n",
    "    print(i[0], i[1], i[2])\n",
    "    print(str(temp.GetBondWithIdx(i[0]).GetBeginAtom().GetSymbol()) + str(temp.GetBondWithIdx(i[0]).GetBeginAtomIdx()),\n",
    "          str(temp.GetBondWithIdx(i[0]).GetEndAtom().GetSymbol()) + str(temp.GetBondWithIdx(i[0]).GetEndAtomIdx()),\n",
    "          str(temp.GetBondWithIdx(i[1]).GetBeginAtom().GetSymbol()) + str(temp.GetBondWithIdx(i[1]).GetBeginAtomIdx()),\n",
    "          str(temp.GetBondWithIdx(i[1]).GetEndAtom().GetSymbol()) + str(temp.GetBondWithIdx(i[1]).GetEndAtomIdx()),\n",
    "          str(temp.GetBondWithIdx(i[2]).GetBeginAtom().GetSymbol()) + str(temp.GetBondWithIdx(i[2]).GetBeginAtomIdx()),\n",
    "          str(temp.GetBondWithIdx(i[2]).GetEndAtom().GetSymbol()) + str(temp.GetBondWithIdx(i[2]).GetEndAtomIdx())\n",
    "         )"
   ]
  },
  {
   "cell_type": "code",
   "execution_count": null,
   "metadata": {},
   "outputs": [],
   "source": []
  }
 ],
 "metadata": {
  "kernelspec": {
   "display_name": "Python 3",
   "language": "python",
   "name": "python3"
  },
  "language_info": {
   "codemirror_mode": {
    "name": "ipython",
    "version": 3
   },
   "file_extension": ".py",
   "mimetype": "text/x-python",
   "name": "python",
   "nbconvert_exporter": "python",
   "pygments_lexer": "ipython3",
   "version": "3.7.3"
  }
 },
 "nbformat": 4,
 "nbformat_minor": 4
}
