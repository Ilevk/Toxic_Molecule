{
 "cells": [
  {
   "cell_type": "code",
   "execution_count": 17,
   "metadata": {},
   "outputs": [],
   "source": [
    "import pandas as pd\n",
    "import numpy as np\n",
    "import seaborn as sns\n",
    "\n",
    "import matplotlib.pyplot as plt\n",
    "from rdkit import Chem\n",
    "%matplotlib inline\n",
    "\n",
    "import lightgbm as lgbm\n",
    "\n",
    "from sklearn.model_selection import StratifiedKFold\n",
    "from sklearn.metrics import log_loss, f1_score, accuracy_score\n",
    "\n",
    "from bayes_opt import BayesianOptimization\n",
    "\n",
    "import warnings\n",
    "warnings.simplefilter('ignore')"
   ]
  },
  {
   "cell_type": "markdown",
   "metadata": {},
   "source": [
    "### load data"
   ]
  },
  {
   "cell_type": "code",
   "execution_count": 6,
   "metadata": {},
   "outputs": [],
   "source": [
    "CURRENT_PATH = '/Users/skcc10170/Desktop'\n",
    "\n",
    "df_train = pd.read_csv(CURRENT_PATH + '/data/org/train_.csv')\n",
    "df_valid = pd.read_csv(CURRENT_PATH + '/data/org/valid_.csv')\n",
    "df_test = pd.read_csv(CURRENT_PATH + '/data/org/predict_input.csv')\n",
    "\n",
    "df_tot = pd.concat([df_train, df_valid, df_test], sort=True).reset_index(drop=True)"
   ]
  },
  {
   "cell_type": "markdown",
   "metadata": {},
   "source": [
    "### data feature"
   ]
  },
  {
   "cell_type": "code",
   "execution_count": 7,
   "metadata": {},
   "outputs": [],
   "source": [
    "# find all columns\n",
    "cols = df_train.columns\n",
    "\n",
    "# smiles code\n",
    "cols_smiles = 'SMILES'\n",
    "\n",
    "# node-edge level (3 footprints)\n",
    "cols_ecfp = list(cols[cols.str.contains('ecfp_')]) # ecfp 1024개\n",
    "cols_fcfp = list(cols[cols.str.contains('fcfp_')]) # fcfp 1024개\n",
    "cols_ptfp = list(cols[cols.str.contains('ptfp_')]) # ptfp 1024개\n",
    "\n",
    "# graph level\n",
    "cols_mol = ['MolWt', 'clogp', 'sa_score', 'qed']\n",
    "\n",
    "# input cols\n",
    "cols_input1 = cols_ecfp + cols_fcfp + cols_ptfp\n",
    "cols_input2 = cols_mol\n",
    "cols_input  = cols_input1 + cols_input2\n",
    "\n",
    "# label\n",
    "cols_label = 'label'"
   ]
  },
  {
   "cell_type": "markdown",
   "metadata": {},
   "source": [
    "### CV start!"
   ]
  },
  {
   "cell_type": "code",
   "execution_count": 8,
   "metadata": {},
   "outputs": [],
   "source": [
    "n_splits     = 5\n",
    "random_state = 2020\n",
    "num_test     = len(df_test) # 927\n",
    "\n",
    "kfold = StratifiedKFold(n_splits=n_splits, random_state=random_state, shuffle=True)"
   ]
  },
  {
   "cell_type": "code",
   "execution_count": 11,
   "metadata": {},
   "outputs": [],
   "source": [
    "x_train, y_train = df_train[cols_input].values, df_train[cols_label].values\n",
    "x_valid, y_valid = df_valid[cols_input].values, df_valid[cols_label].values\n",
    "x_test = df_test[cols_input].values\n",
    "\n",
    "trainset_x = np.vstack([x_train, x_valid])\n",
    "trainset_y = np.hstack([y_train, y_valid])\n",
    "\n",
    "d_train = lgbm.Dataset(trainset_x, trainset_y)"
   ]
  },
  {
   "cell_type": "code",
   "execution_count": null,
   "metadata": {},
   "outputs": [
    {
     "name": "stdout",
     "output_type": "stream",
     "text": [
      "|   iter    |  target   | baggin... | featur... | lambda_l1 | lambda_l2 | max_depth | min_ch... | min_sp... | num_le... |\n",
      "-------------------------------------------------------------------------------------------------------------------------\n",
      "[200]\tcv_agg's f1: 0.778245 + 0.0101776\n",
      "[400]\tcv_agg's f1: 0.78905 + 0.00988243\n",
      "[600]\tcv_agg's f1: 0.792864 + 0.0100368\n",
      "[800]\tcv_agg's f1: 0.797835 + 0.00826073\n",
      "[1000]\tcv_agg's f1: 0.801347 + 0.00815231\n",
      "[1200]\tcv_agg's f1: 0.805922 + 0.00773312\n",
      "[1400]\tcv_agg's f1: 0.807214 + 0.00710659\n",
      "[1600]\tcv_agg's f1: 0.80855 + 0.00603789\n",
      "[1800]\tcv_agg's f1: 0.809988 + 0.00573007\n",
      "| \u001b[0m 1       \u001b[0m | \u001b[0m 0.8103  \u001b[0m | \u001b[0m 0.9098  \u001b[0m | \u001b[0m 0.6722  \u001b[0m | \u001b[0m 3.014   \u001b[0m | \u001b[0m 1.635   \u001b[0m | \u001b[0m 6.69    \u001b[0m | \u001b[0m 34.07   \u001b[0m | \u001b[0m 0.04432 \u001b[0m | \u001b[0m 42.73   \u001b[0m |\n",
      "[200]\tcv_agg's f1: 0.771531 + 0.0113234\n",
      "[400]\tcv_agg's f1: 0.780214 + 0.00971325\n",
      "[600]\tcv_agg's f1: 0.78762 + 0.00962899\n",
      "[800]\tcv_agg's f1: 0.790942 + 0.00867544\n",
      "[1000]\tcv_agg's f1: 0.793668 + 0.00857821\n",
      "[1200]\tcv_agg's f1: 0.797587 + 0.00815656\n",
      "| \u001b[0m 2       \u001b[0m | \u001b[0m 0.7987  \u001b[0m | \u001b[0m 0.9927  \u001b[0m | \u001b[0m 0.4068  \u001b[0m | \u001b[0m 3.959   \u001b[0m | \u001b[0m 1.587   \u001b[0m | \u001b[0m 7.266   \u001b[0m | \u001b[0m 46.65   \u001b[0m | \u001b[0m 0.008033\u001b[0m | \u001b[0m 25.83   \u001b[0m |\n",
      "[200]\tcv_agg's f1: 0.772492 + 0.00955669\n",
      "[400]\tcv_agg's f1: 0.7873 + 0.00981276\n",
      "[600]\tcv_agg's f1: 0.793145 + 0.00931891\n",
      "[800]\tcv_agg's f1: 0.799068 + 0.00887317\n",
      "[1000]\tcv_agg's f1: 0.801232 + 0.00908001\n",
      "[1200]\tcv_agg's f1: 0.804891 + 0.0085174\n",
      "| \u001b[0m 3       \u001b[0m | \u001b[0m 0.8052  \u001b[0m | \u001b[0m 0.804   \u001b[0m | \u001b[0m 0.7661  \u001b[0m | \u001b[0m 3.891   \u001b[0m | \u001b[0m 2.61    \u001b[0m | \u001b[0m 8.905   \u001b[0m | \u001b[0m 40.96   \u001b[0m | \u001b[0m 0.04669 \u001b[0m | \u001b[0m 40.39   \u001b[0m |\n",
      "[200]\tcv_agg's f1: 0.780796 + 0.0107943\n",
      "[400]\tcv_agg's f1: 0.791466 + 0.010984\n",
      "[600]\tcv_agg's f1: 0.795973 + 0.0102262\n",
      "[800]\tcv_agg's f1: 0.800594 + 0.0076973\n",
      "[1000]\tcv_agg's f1: 0.805893 + 0.00701599\n",
      "[1200]\tcv_agg's f1: 0.809978 + 0.00655938\n",
      "[1400]\tcv_agg's f1: 0.811937 + 0.00496705\n",
      "[1600]\tcv_agg's f1: 0.814216 + 0.00510132\n",
      "[1800]\tcv_agg's f1: 0.81504 + 0.00484143\n",
      "[2000]\tcv_agg's f1: 0.817236 + 0.00453664\n",
      "[2200]\tcv_agg's f1: 0.818766 + 0.00505079\n",
      "| \u001b[95m 4       \u001b[0m | \u001b[95m 0.8191  \u001b[0m | \u001b[95m 0.8237  \u001b[0m | \u001b[95m 0.6119  \u001b[0m | \u001b[95m 0.7168  \u001b[0m | \u001b[95m 2.834   \u001b[0m | \u001b[95m 7.082   \u001b[0m | \u001b[95m 23.66   \u001b[0m | \u001b[95m 0.02719 \u001b[0m | \u001b[95m 40.26   \u001b[0m |\n",
      "[200]\tcv_agg's f1: 0.780165 + 0.0102834\n",
      "[400]\tcv_agg's f1: 0.789589 + 0.00913635\n",
      "[600]\tcv_agg's f1: 0.795468 + 0.00906986\n",
      "[800]\tcv_agg's f1: 0.801668 + 0.00827474\n",
      "[1000]\tcv_agg's f1: 0.803534 + 0.00624007\n",
      "[1200]\tcv_agg's f1: 0.804881 + 0.00610138\n",
      "[1400]\tcv_agg's f1: 0.808294 + 0.00501973\n",
      "[1600]\tcv_agg's f1: 0.80944 + 0.00357399\n",
      "| \u001b[0m 5       \u001b[0m | \u001b[0m 0.8104  \u001b[0m | \u001b[0m 0.8912  \u001b[0m | \u001b[0m 0.5547  \u001b[0m | \u001b[0m 0.09395 \u001b[0m | \u001b[0m 1.853   \u001b[0m | \u001b[0m 7.442   \u001b[0m | \u001b[0m 32.76   \u001b[0m | \u001b[0m 0.09443 \u001b[0m | \u001b[0m 38.32   \u001b[0m |\n",
      "[200]\tcv_agg's f1: 0.78771 + 0.0106437\n",
      "[400]\tcv_agg's f1: 0.801387 + 0.00977842\n"
     ]
    }
   ],
   "source": [
    "def learning_rate_005_decay_power_099(current_iter):\n",
    "    base_learning_rate = 0.05\n",
    "    lr = base_learning_rate  * np.power(.99, current_iter)\n",
    "    return lr if lr > 1e-3 else 1e-3\n",
    "\n",
    "def lgb_f1_score(y_hat, data):\n",
    "    y_true = data.get_label().astype(int)\n",
    "    y_hat = np.round(y_hat).astype(int) # scikits f1 doesn't like probabilities\n",
    "    return 'f1', f1_score(y_true, y_hat), True\n",
    "\n",
    "\n",
    "n_folds = 5\n",
    "random_seed=2020\n",
    "\n",
    "def lgb_eval(num_leaves, feature_fraction, bagging_fraction, max_depth, lambda_l1, lambda_l2, min_split_gain, min_child_weight):\n",
    "    params = {'application':'binary',\n",
    "              'num_iterations': 30000 , \n",
    "              'learning_rate':0.02, \n",
    "              'early_stopping_round':100,\n",
    "              \"objective\" : \"binary\",\n",
    "              \"num_threads\" : 20 ,\n",
    "             }\n",
    "    params[\"num_leaves\"] = int(round(num_leaves))\n",
    "    params['feature_fraction'] = max(min(feature_fraction, 1), 0)\n",
    "    params['bagging_fraction'] = max(min(bagging_fraction, 1), 0)\n",
    "    params['max_depth'] = int(round(max_depth))\n",
    "    params['lambda_l1'] = max(lambda_l1, 0)\n",
    "    params['lambda_l2'] = max(lambda_l2, 0)\n",
    "    params['min_split_gain'] = min_split_gain\n",
    "    params['min_child_weight'] = min_child_weight\n",
    "    cv_result = lgbm.cv(params, d_train,\n",
    "                       nfold=n_folds, seed=random_seed, \n",
    "                       stratified=True, verbose_eval =200, \n",
    "                       metrics=[\"None\"], \n",
    "                       feval=lgb_f1_score\n",
    "                      )\n",
    "    return max(cv_result['f1-mean'])\n",
    "\n",
    "lgbBO = BayesianOptimization(lgb_eval, {'num_leaves': (24, 45),\n",
    "                                        'feature_fraction': (0.1, 0.9),\n",
    "                                        'bagging_fraction': (0.8, 1),\n",
    "                                        'max_depth': (5, 8.99),\n",
    "                                        'lambda_l1': (0, 5),\n",
    "                                        'lambda_l2': (0, 3),\n",
    "                                        'min_split_gain': (0.001, 0.1),\n",
    "                                        'min_child_weight': (5, 50)}, random_state=0)\n",
    "init_round=5\n",
    "opt_round = 10\n",
    "lgbBO.maximize(init_points=init_round, n_iter=opt_round)\n",
    "# lgbBO.points_to_csv(\"lgb_bayes_opt_result.csv\")\n",
    "params = lgbBO.res['max']['max_params']\n",
    "lgb2 = lgbm.train(params, d_train , 100)\n",
    "lgb_prob = lgb2.predict( lgb_test.values )"
   ]
  },
  {
   "cell_type": "code",
   "execution_count": null,
   "metadata": {},
   "outputs": [],
   "source": []
  }
 ],
 "metadata": {
  "kernelspec": {
   "display_name": "Python 3",
   "language": "python",
   "name": "python3"
  },
  "language_info": {
   "codemirror_mode": {
    "name": "ipython",
    "version": 3
   },
   "file_extension": ".py",
   "mimetype": "text/x-python",
   "name": "python",
   "nbconvert_exporter": "python",
   "pygments_lexer": "ipython3",
   "version": "3.7.3"
  }
 },
 "nbformat": 4,
 "nbformat_minor": 4
}
