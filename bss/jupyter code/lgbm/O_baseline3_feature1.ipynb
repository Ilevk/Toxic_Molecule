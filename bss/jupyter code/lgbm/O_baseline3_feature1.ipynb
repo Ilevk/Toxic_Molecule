{
 "cells": [
  {
   "cell_type": "markdown",
   "metadata": {},
   "source": [
    "# baseline 1\n",
    "\n",
    "    설명\n",
    "    \n",
    "    1. 데이터셋\n",
    "    - [X] orgin\n",
    "    - [O] origin + mol features\n",
    "    \n",
    "    2. 전처리\n",
    "    - [O] stand.\n",
    "    \n",
    "    3. lgbm\n",
    "    - [O] binary classification loss"
   ]
  },
  {
   "cell_type": "markdown",
   "metadata": {},
   "source": [
    "### import library"
   ]
  },
  {
   "cell_type": "code",
   "execution_count": 1,
   "metadata": {},
   "outputs": [
    {
     "name": "stderr",
     "output_type": "stream",
     "text": [
      "RDKit WARNING: [19:23:42] Enabling RDKit 2019.09.3 jupyter extensions\n",
      "/Users/skcc10170/anaconda3/lib/python3.7/site-packages/lightgbm/__init__.py:46: UserWarning: Starting from version 2.2.1, the library file in distribution wheels for macOS is built by the Apple Clang (Xcode_9.4.1) compiler.\n",
      "This means that in case of installing LightGBM from PyPI via the ``pip install lightgbm`` command, you don't need to install the gcc compiler anymore.\n",
      "Instead of that, you need to install the OpenMP library, which is required for running LightGBM on the system with the Apple Clang compiler.\n",
      "You can install the OpenMP library by the following command: ``brew install libomp``.\n",
      "  \"You can install the OpenMP library by the following command: ``brew install libomp``.\", UserWarning)\n"
     ]
    }
   ],
   "source": [
    "import pandas as pd\n",
    "import numpy as np\n",
    "import seaborn as sns\n",
    "\n",
    "import matplotlib.pyplot as plt\n",
    "from rdkit import Chem\n",
    "from rdkit.Chem import Descriptors\n",
    "%matplotlib inline\n",
    "\n",
    "import lightgbm as lgbm\n",
    "\n",
    "from sklearn.model_selection import StratifiedKFold, RandomizedSearchCV\n",
    "from sklearn.metrics import log_loss, f1_score, accuracy_score\n",
    "from sklearn.metrics import confusion_matrix, roc_curve, auc"
   ]
  },
  {
   "cell_type": "markdown",
   "metadata": {},
   "source": [
    "### load data"
   ]
  },
  {
   "cell_type": "code",
   "execution_count": 176,
   "metadata": {},
   "outputs": [],
   "source": [
    "CURRENT_PATH = '/Users/skcc10170/Desktop'\n",
    "\n",
    "df_train = pd.read_csv(CURRENT_PATH + '/data/org/train_.csv')\n",
    "df_valid = pd.read_csv(CURRENT_PATH + '/data/org/valid_.csv')\n",
    "df_test = pd.read_csv(CURRENT_PATH + '/data/org/predict_input.csv')\n",
    "\n",
    "df_train['type'] = 'train'\n",
    "df_valid['type'] = 'valid'\n",
    "df_test['type']  = 'test'\n",
    "\n",
    "df_tot = pd.concat([df_train, df_valid, df_test], sort=True).reset_index(drop=True)"
   ]
  },
  {
   "cell_type": "markdown",
   "metadata": {},
   "source": [
    "### feature generating from molecule"
   ]
  },
  {
   "cell_type": "code",
   "execution_count": 3,
   "metadata": {},
   "outputs": [
    {
     "data": {
      "image/png": "[encoded data removed]",
      "text/plain": [
       "<rdkit.Chem.rdchem.Mol at 0x1a1ca580d0>"
      ]
     },
     "execution_count": 3,
     "metadata": {},
     "output_type": "execute_result"
    }
   ],
   "source": [
    "# for test\n",
    "sample = df_tot['SMILES'][0]\n",
    "sample = Chem.MolFromSmiles(sample)\n",
    "sample"
   ]
  },
  {
   "cell_type": "code",
   "execution_count": 4,
   "metadata": {},
   "outputs": [],
   "source": [
    "df_tot['myf_NumAtoms']            = df_tot.SMILES.apply(lambda x: Chem.MolFromSmiles(x).GetNumAtoms())\n",
    "df_tot['myf_NumHeavyAtoms']       = df_tot.SMILES.apply(lambda x: Chem.MolFromSmiles(x).GetNumHeavyAtoms())\n",
    "df_tot['myf_GetNumBonds']         = df_tot.SMILES.apply(lambda x: Chem.MolFromSmiles(x).GetNumBonds())\n",
    "df_tot['myf_GetNumHeavyBonds']    = df_tot.SMILES.apply(lambda x: Chem.MolFromSmiles(x).GetNumBonds(onlyHeavy=True))\n",
    "\n",
    "df_tot['myf_ExactMolWt']          = df_tot.SMILES.apply(lambda x: Descriptors.ExactMolWt(Chem.MolFromSmiles(x)))\n",
    "df_tot['myf_HeavyAtomMolWt']      = df_tot.SMILES.apply(lambda x: Descriptors.HeavyAtomMolWt(Chem.MolFromSmiles(x)))\n",
    "df_tot['myf_FpDensityMorgan1']    = df_tot.SMILES.apply(lambda x: Descriptors.FpDensityMorgan1(Chem.MolFromSmiles(x)))\n",
    "df_tot['myf_FpDensityMorgan2']    = df_tot.SMILES.apply(lambda x: Descriptors.FpDensityMorgan2(Chem.MolFromSmiles(x)))\n",
    "df_tot['myf_FpDensityMorgan3']    = df_tot.SMILES.apply(lambda x: Descriptors.FpDensityMorgan3(Chem.MolFromSmiles(x)))\n",
    "df_tot['myf_MaxAbsPartialCharge'] = df_tot.SMILES.apply(lambda x: Descriptors.MaxAbsPartialCharge(Chem.MolFromSmiles(x)))\n",
    "df_tot['myf_MaxPartialCharge']    = df_tot.SMILES.apply(lambda x: Descriptors.MaxPartialCharge(Chem.MolFromSmiles(x)))\n",
    "df_tot['myf_MinAbsPartialCharge'] = df_tot.SMILES.apply(lambda x: Descriptors.MinAbsPartialCharge(Chem.MolFromSmiles(x)))\n",
    "df_tot['myf_MinPartialCharge']    = df_tot.SMILES.apply(lambda x: Descriptors.MinPartialCharge(Chem.MolFromSmiles(x)))\n",
    "df_tot['myf_MolWt']               = df_tot.SMILES.apply(lambda x: Descriptors.MolWt(Chem.MolFromSmiles(x)))\n",
    "df_tot['myf_NumRadicalElectrons'] = df_tot.SMILES.apply(lambda x: Descriptors.NumRadicalElectrons(Chem.MolFromSmiles(x)))\n",
    "df_tot['myf_NumValenceElectrons'] = df_tot.SMILES.apply(lambda x: Descriptors.NumValenceElectrons(Chem.MolFromSmiles(x)))\n",
    "\n",
    "df_tot['myf_NumDoubleBondType'] = df_tot.SMILES.apply(lambda x: len([1 for b in Chem.MolFromSmiles(x).GetBonds() if b.GetBondTypeAsDouble() == 1.0]))"
   ]
  },
  {
   "cell_type": "markdown",
   "metadata": {},
   "source": [
    "### data feature"
   ]
  },
  {
   "cell_type": "code",
   "execution_count": 5,
   "metadata": {},
   "outputs": [],
   "source": [
    "# find all columns\n",
    "cols = df_train.columns\n",
    "\n",
    "# smiles code\n",
    "cols_smiles = 'SMILES'\n",
    "\n",
    "# node-edge level (3 footprints)\n",
    "cols_ecfp = list(cols[cols.str.contains('ecfp_')]) # ecfp 1024개\n",
    "cols_fcfp = list(cols[cols.str.contains('fcfp_')]) # fcfp 1024개\n",
    "cols_ptfp = list(cols[cols.str.contains('ptfp_')]) # ptfp 1024개\n",
    "\n",
    "# graph level\n",
    "cols_mol = ['MolWt', 'clogp', 'sa_score', 'qed']\n",
    "\n",
    "### new features\n",
    "cols_new_f = list(cols[cols.str.contains('myf_')])\n",
    "\n",
    "# input cols\n",
    "cols_input1 = cols_ecfp + cols_fcfp + cols_ptfp # don't have to normalize\n",
    "cols_input2 = cols_mol + cols_new_f # have to normalize\n",
    "cols_input  = cols_input1 + cols_input2\n",
    "\n",
    "# label\n",
    "cols_label = 'label'"
   ]
  },
  {
   "cell_type": "markdown",
   "metadata": {},
   "source": [
    "### CV start!"
   ]
  },
  {
   "cell_type": "code",
   "execution_count": 6,
   "metadata": {},
   "outputs": [],
   "source": [
    "n_splits     = 5\n",
    "random_state = 2020\n",
    "random_seed  = 2020\n",
    "data_random_seed = 2020\n",
    "feature_fraction_seed = 2020\n",
    "\n",
    "num_test     = len(df_test) # 927\n",
    "\n",
    "kfold = StratifiedKFold(n_splits=n_splits, random_state=random_state, shuffle=True)"
   ]
  },
  {
   "cell_type": "code",
   "execution_count": 7,
   "metadata": {},
   "outputs": [],
   "source": [
    "x_train, y_train = df_train[cols_input].values, df_train[cols_label].values\n",
    "x_valid, y_valid = df_valid[cols_input].values, df_valid[cols_label].values\n",
    "x_test            = df_test[cols_input].values\n",
    "\n",
    "trainset_x = np.vstack([x_train, x_valid])\n",
    "trainset_y = np.hstack([y_train, y_valid])"
   ]
  },
  {
   "cell_type": "code",
   "execution_count": 43,
   "metadata": {},
   "outputs": [],
   "source": [
    "params = {\n",
    "    'objective' :'binary',\n",
    "    'learning_rate' : 0.019,\n",
    "    'num_leaves' : 90,\n",
    "    'feature_fraction': 0.9, \n",
    "    'bagging_fraction': 0.8, \n",
    "    'bagging_freq':1,\n",
    "    'boosting_type' : 'dart',\n",
    "    'metric': {'binary_logloss'},\n",
    "    'max_depth' : 32\n",
    "}"
   ]
  },
  {
   "cell_type": "code",
   "execution_count": 271,
   "metadata": {},
   "outputs": [
    {
     "name": "stdout",
     "output_type": "stream",
     "text": [
      "Training until validation scores don't improve for 100 rounds.\n",
      "[100]\ttrain's binary_logloss: 0.497193\tval's binary_logloss: 0.545531\n",
      "[200]\ttrain's binary_logloss: 0.432764\tval's binary_logloss: 0.506886\n",
      "[300]\ttrain's binary_logloss: 0.373272\tval's binary_logloss: 0.475363\n",
      "[400]\ttrain's binary_logloss: 0.327123\tval's binary_logloss: 0.453621\n",
      "[500]\ttrain's binary_logloss: 0.284676\tval's binary_logloss: 0.436509\n",
      "[600]\ttrain's binary_logloss: 0.268116\tval's binary_logloss: 0.432103\n",
      "[700]\ttrain's binary_logloss: 0.241701\tval's binary_logloss: 0.42396\n",
      "[800]\ttrain's binary_logloss: 0.224683\tval's binary_logloss: 0.42102\n",
      "[900]\ttrain's binary_logloss: 0.203339\tval's binary_logloss: 0.414825\n",
      "[1000]\ttrain's binary_logloss: 0.189318\tval's binary_logloss: 0.412243\n",
      "[1100]\ttrain's binary_logloss: 0.174254\tval's binary_logloss: 0.410151\n",
      "[1200]\ttrain's binary_logloss: 0.16538\tval's binary_logloss: 0.408913\n",
      "[1300]\ttrain's binary_logloss: 0.154123\tval's binary_logloss: 0.407981\n",
      "Early stopping, best iteration is:\n",
      "[1237]\ttrain's binary_logloss: 0.158586\tval's binary_logloss: 0.407457\n",
      "Fold 0 | Valid Accuracy: 0.8120885697187313, F1 Score: 0.8322649572649572\n",
      "Training until validation scores don't improve for 100 rounds.\n",
      "[100]\ttrain's binary_logloss: 0.494193\tval's binary_logloss: 0.557385\n",
      "[200]\ttrain's binary_logloss: 0.428924\tval's binary_logloss: 0.520805\n",
      "[300]\ttrain's binary_logloss: 0.3696\tval's binary_logloss: 0.490886\n",
      "[400]\ttrain's binary_logloss: 0.322409\tval's binary_logloss: 0.46957\n",
      "[500]\ttrain's binary_logloss: 0.28005\tval's binary_logloss: 0.453796\n",
      "[600]\ttrain's binary_logloss: 0.263813\tval's binary_logloss: 0.448431\n",
      "[700]\ttrain's binary_logloss: 0.237171\tval's binary_logloss: 0.441528\n",
      "[800]\ttrain's binary_logloss: 0.220267\tval's binary_logloss: 0.436933\n",
      "[900]\ttrain's binary_logloss: 0.199155\tval's binary_logloss: 0.431229\n",
      "[1000]\ttrain's binary_logloss: 0.185249\tval's binary_logloss: 0.42871\n",
      "[1100]\ttrain's binary_logloss: 0.17006\tval's binary_logloss: 0.427269\n",
      "[1200]\ttrain's binary_logloss: 0.161537\tval's binary_logloss: 0.426211\n",
      "[1300]\ttrain's binary_logloss: 0.150529\tval's binary_logloss: 0.425228\n",
      "[1400]\ttrain's binary_logloss: 0.136438\tval's binary_logloss: 0.425038\n",
      "Early stopping, best iteration is:\n",
      "[1351]\ttrain's binary_logloss: 0.144869\tval's binary_logloss: 0.424433\n",
      "Fold 1 | Valid Accuracy: 0.7947336923997607, F1 Score: 0.8114348543155581\n",
      "Training until validation scores don't improve for 100 rounds.\n",
      "[100]\ttrain's binary_logloss: 0.495196\tval's binary_logloss: 0.558766\n",
      "[200]\ttrain's binary_logloss: 0.430611\tval's binary_logloss: 0.521218\n",
      "[300]\ttrain's binary_logloss: 0.371235\tval's binary_logloss: 0.490878\n",
      "[400]\ttrain's binary_logloss: 0.324256\tval's binary_logloss: 0.46832\n",
      "[500]\ttrain's binary_logloss: 0.282019\tval's binary_logloss: 0.452835\n",
      "[600]\ttrain's binary_logloss: 0.26564\tval's binary_logloss: 0.447713\n",
      "[700]\ttrain's binary_logloss: 0.239313\tval's binary_logloss: 0.439882\n",
      "[800]\ttrain's binary_logloss: 0.222488\tval's binary_logloss: 0.435411\n",
      "[900]\ttrain's binary_logloss: 0.201483\tval's binary_logloss: 0.431419\n",
      "[1000]\ttrain's binary_logloss: 0.187557\tval's binary_logloss: 0.429721\n",
      "[1100]\ttrain's binary_logloss: 0.172463\tval's binary_logloss: 0.428466\n",
      "[1200]\ttrain's binary_logloss: 0.163956\tval's binary_logloss: 0.426943\n",
      "[1300]\ttrain's binary_logloss: 0.152831\tval's binary_logloss: 0.426249\n",
      "[1400]\ttrain's binary_logloss: 0.138577\tval's binary_logloss: 0.42497\n",
      "[1500]\ttrain's binary_logloss: 0.132659\tval's binary_logloss: 0.42445\n",
      "[1600]\ttrain's binary_logloss: 0.121976\tval's binary_logloss: 0.425214\n",
      "Early stopping, best iteration is:\n",
      "[1568]\ttrain's binary_logloss: 0.12761\tval's binary_logloss: 0.424142\n",
      "Fold 2 | Valid Accuracy: 0.7998801677651288, F1 Score: 0.8182807399347116\n",
      "Training until validation scores don't improve for 100 rounds.\n",
      "[100]\ttrain's binary_logloss: 0.498564\tval's binary_logloss: 0.54596\n",
      "[200]\ttrain's binary_logloss: 0.433436\tval's binary_logloss: 0.505518\n",
      "[300]\ttrain's binary_logloss: 0.374248\tval's binary_logloss: 0.473445\n",
      "[400]\ttrain's binary_logloss: 0.327958\tval's binary_logloss: 0.45174\n",
      "[500]\ttrain's binary_logloss: 0.285949\tval's binary_logloss: 0.434565\n",
      "[600]\ttrain's binary_logloss: 0.269436\tval's binary_logloss: 0.429454\n",
      "[700]\ttrain's binary_logloss: 0.242763\tval's binary_logloss: 0.423306\n",
      "[800]\ttrain's binary_logloss: 0.225877\tval's binary_logloss: 0.419734\n",
      "[900]\ttrain's binary_logloss: 0.204263\tval's binary_logloss: 0.41516\n",
      "[1000]\ttrain's binary_logloss: 0.190208\tval's binary_logloss: 0.41252\n",
      "[1100]\ttrain's binary_logloss: 0.174975\tval's binary_logloss: 0.410546\n",
      "[1200]\ttrain's binary_logloss: 0.166011\tval's binary_logloss: 0.409646\n",
      "[1300]\ttrain's binary_logloss: 0.154871\tval's binary_logloss: 0.40883\n",
      "Early stopping, best iteration is:\n",
      "[1220]\ttrain's binary_logloss: 0.160545\tval's binary_logloss: 0.407933\n",
      "Fold 3 | Valid Accuracy: 0.8058717795086878, F1 Score: 0.8261802575107295\n",
      "Training until validation scores don't improve for 100 rounds.\n",
      "[100]\ttrain's binary_logloss: 0.49556\tval's binary_logloss: 0.546249\n",
      "[200]\ttrain's binary_logloss: 0.431974\tval's binary_logloss: 0.507363\n",
      "[300]\ttrain's binary_logloss: 0.372702\tval's binary_logloss: 0.474899\n",
      "[400]\ttrain's binary_logloss: 0.32581\tval's binary_logloss: 0.454067\n",
      "[500]\ttrain's binary_logloss: 0.284115\tval's binary_logloss: 0.439166\n",
      "[600]\ttrain's binary_logloss: 0.267418\tval's binary_logloss: 0.433653\n",
      "[700]\ttrain's binary_logloss: 0.240629\tval's binary_logloss: 0.424546\n",
      "[800]\ttrain's binary_logloss: 0.22366\tval's binary_logloss: 0.420641\n",
      "[900]\ttrain's binary_logloss: 0.201994\tval's binary_logloss: 0.414904\n",
      "[1000]\ttrain's binary_logloss: 0.187962\tval's binary_logloss: 0.412638\n",
      "[1100]\ttrain's binary_logloss: 0.172683\tval's binary_logloss: 0.411298\n",
      "[1200]\ttrain's binary_logloss: 0.16405\tval's binary_logloss: 0.409241\n",
      "[1300]\ttrain's binary_logloss: 0.152972\tval's binary_logloss: 0.409117\n",
      "[1400]\ttrain's binary_logloss: 0.138688\tval's binary_logloss: 0.40855\n",
      "Early stopping, best iteration is:\n",
      "[1351]\ttrain's binary_logloss: 0.147134\tval's binary_logloss: 0.407963\n",
      "Fold 4 | Valid Accuracy: 0.8184541641701618, F1 Score: 0.8378812199036917\n",
      "Valid Accuracy: 0.8062056747124942, F1 Score: 0.8252084057859296\n"
     ]
    }
   ],
   "source": [
    "val_f1, val_acc, val_loss = [], [], []\n",
    "results = np.zeros((kfold.n_splits, num_test), dtype=np.float)\n",
    "prob_results = np.zeros(len(trainset_x), dtype=np.float)\n",
    "\n",
    "for i, (train_idx, valid_idx) in enumerate(kfold.split(trainset_x, trainset_y)):\n",
    "    \n",
    "    # 데이터셋 나눔(train, valid & x,y)\n",
    "    x_train, y_train = trainset_x[train_idx], trainset_y[train_idx]\n",
    "    x_valid, y_valid = trainset_x[valid_idx], trainset_y[valid_idx]\n",
    "    x_test           = df_test[cols_input].values\n",
    "    \n",
    "    # 트레인셋 기준으로 평균값, 표준편차 계산\n",
    "    ## 수치형 변수 기준\n",
    "    ### baseline : cols_input2(수치형)\n",
    "    cktpt = len(cols_input2)\n",
    "    tr_mean, tr_std = x_train[:, -cktpt:].mean(axis=0), x_train[:, -cktpt:].std(axis=0)\n",
    "    \n",
    "    # train/valid \n",
    "    x_train[:,-cktpt:] = (x_train[:,-cktpt:] - tr_mean) / (tr_std + 1e-5)\n",
    "    x_valid[:,-cktpt:] = (x_valid[:,-cktpt:] - tr_mean) / (tr_std + 1e-5)\n",
    "    x_test[:,-cktpt:]  = (x_test[:,-cktpt:]  - tr_mean) / (tr_std + 1e-5)\n",
    "    \n",
    "    d_train = lgbm.Dataset(x_train, y_train)\n",
    "    d_valid = lgbm.Dataset(x_valid, y_valid)\n",
    "    \n",
    "    model = lgbm.train(params, d_train, 30000, valid_sets=[d_valid, d_train], valid_names=['val', 'train'],\n",
    "                       verbose_eval=100, early_stopping_rounds=100)\n",
    "    \n",
    "    valid_pred_prob = model.predict(x_valid, num_iteration=model.best_iteration)\n",
    "    prob_results[valid_idx] = valid_pred_prob\n",
    "    y_valid_pred = (valid_pred_prob > 0.5).astype(int)\n",
    "    \n",
    "    f1 = f1_score(y_valid, y_valid_pred)\n",
    "    acc = accuracy_score(y_valid, y_valid_pred)\n",
    "    loss = model.best_score['val']['binary_logloss']\n",
    "    \n",
    "    print(f'Fold {i} | Valid Accuracy: {acc}, F1 Score: {f1}')\n",
    "\n",
    "    results[i] = model.predict(x_test, num_iteration=model.best_iteration)\n",
    "    val_f1.append(f1)\n",
    "    val_acc.append(acc)\n",
    "    val_loss.append(loss)\n",
    "\n",
    "print(f'Valid Accuracy: {np.mean(val_acc)}, F1 Score: {np.mean(val_f1)}')"
   ]
  },
  {
   "cell_type": "code",
   "execution_count": 273,
   "metadata": {},
   "outputs": [
    {
     "data": {
      "text/html": [
       "<div>\n",
       "<style scoped>\n",
       "    .dataframe tbody tr th:only-of-type {\n",
       "        vertical-align: middle;\n",
       "    }\n",
       "\n",
       "    .dataframe tbody tr th {\n",
       "        vertical-align: top;\n",
       "    }\n",
       "\n",
       "    .dataframe thead th {\n",
       "        text-align: right;\n",
       "    }\n",
       "</style>\n",
       "<table border=\"1\" class=\"dataframe\">\n",
       "  <thead>\n",
       "    <tr style=\"text-align: right;\">\n",
       "      <th></th>\n",
       "      <th>type</th>\n",
       "      <th>SMILES</th>\n",
       "      <th>label</th>\n",
       "      <th>1</th>\n",
       "      <th>predict</th>\n",
       "    </tr>\n",
       "  </thead>\n",
       "  <tbody>\n",
       "    <tr>\n",
       "      <td>0</td>\n",
       "      <td>train</td>\n",
       "      <td>Fc1ccc(C(=O)C2CCN(CCCOc3ccc(cc3)c4oc5ccccc5n4)...</td>\n",
       "      <td>0.0</td>\n",
       "      <td>0.983695</td>\n",
       "      <td>1.0</td>\n",
       "    </tr>\n",
       "    <tr>\n",
       "      <td>1</td>\n",
       "      <td>train</td>\n",
       "      <td>CC(C)n1c(CNC2CCCC2)nc(C)c1c3ccc(Cl)cc3</td>\n",
       "      <td>0.0</td>\n",
       "      <td>0.952843</td>\n",
       "      <td>1.0</td>\n",
       "    </tr>\n",
       "    <tr>\n",
       "      <td>2</td>\n",
       "      <td>train</td>\n",
       "      <td>COCC1=C([C@@H](c2ccc(Cl)c(Cl)c2)n3nccc3N1)C(=O...</td>\n",
       "      <td>1.0</td>\n",
       "      <td>0.957418</td>\n",
       "      <td>1.0</td>\n",
       "    </tr>\n",
       "    <tr>\n",
       "      <td>3</td>\n",
       "      <td>train</td>\n",
       "      <td>CCCCCCCCc1cccc(CCCCCCCC)[n+]1C</td>\n",
       "      <td>0.0</td>\n",
       "      <td>0.955474</td>\n",
       "      <td>1.0</td>\n",
       "    </tr>\n",
       "    <tr>\n",
       "      <td>4</td>\n",
       "      <td>train</td>\n",
       "      <td>CC[C@H]1CN([C@H](C)CN1C2CCN(CC2)C(=O)c3ccc(Cl)...</td>\n",
       "      <td>1.0</td>\n",
       "      <td>0.934284</td>\n",
       "      <td>1.0</td>\n",
       "    </tr>\n",
       "    <tr>\n",
       "      <td>...</td>\n",
       "      <td>...</td>\n",
       "      <td>...</td>\n",
       "      <td>...</td>\n",
       "      <td>...</td>\n",
       "      <td>...</td>\n",
       "    </tr>\n",
       "    <tr>\n",
       "      <td>9271</td>\n",
       "      <td>test</td>\n",
       "      <td>COc1ccc2nccc([C@@H](O)CC[C@@H]3CCN(CCSc4ccc[se...</td>\n",
       "      <td>NaN</td>\n",
       "      <td>NaN</td>\n",
       "      <td>0.0</td>\n",
       "    </tr>\n",
       "    <tr>\n",
       "      <td>9272</td>\n",
       "      <td>test</td>\n",
       "      <td>C[C@@]1(CC[C@](C)(C1)c2nc(c3ccc(cc3)C(=O)Nc4cc...</td>\n",
       "      <td>NaN</td>\n",
       "      <td>NaN</td>\n",
       "      <td>0.0</td>\n",
       "    </tr>\n",
       "    <tr>\n",
       "      <td>9273</td>\n",
       "      <td>test</td>\n",
       "      <td>Cc1noc(n1)c2cccc(CN3CCN(CC3)C(=O)c4ccc(C[C@@H]...</td>\n",
       "      <td>NaN</td>\n",
       "      <td>NaN</td>\n",
       "      <td>0.0</td>\n",
       "    </tr>\n",
       "    <tr>\n",
       "      <td>9274</td>\n",
       "      <td>test</td>\n",
       "      <td>CCN(CC)Cc1cc(\\C=N\\N=C(/N)\\CC(O)c2cc3c(F)cc(F)c...</td>\n",
       "      <td>NaN</td>\n",
       "      <td>NaN</td>\n",
       "      <td>0.0</td>\n",
       "    </tr>\n",
       "    <tr>\n",
       "      <td>9275</td>\n",
       "      <td>test</td>\n",
       "      <td>COC(=O)N[C@@H](C(C)C)C(=O)N1CCC[C@H]1c2ncc([nH...</td>\n",
       "      <td>NaN</td>\n",
       "      <td>NaN</td>\n",
       "      <td>0.0</td>\n",
       "    </tr>\n",
       "  </tbody>\n",
       "</table>\n",
       "<p>9276 rows × 5 columns</p>\n",
       "</div>"
      ],
      "text/plain": [
       "       type                                             SMILES  label  \\\n",
       "0     train  Fc1ccc(C(=O)C2CCN(CCCOc3ccc(cc3)c4oc5ccccc5n4)...    0.0   \n",
       "1     train             CC(C)n1c(CNC2CCCC2)nc(C)c1c3ccc(Cl)cc3    0.0   \n",
       "2     train  COCC1=C([C@@H](c2ccc(Cl)c(Cl)c2)n3nccc3N1)C(=O...    1.0   \n",
       "3     train                     CCCCCCCCc1cccc(CCCCCCCC)[n+]1C    0.0   \n",
       "4     train  CC[C@H]1CN([C@H](C)CN1C2CCN(CC2)C(=O)c3ccc(Cl)...    1.0   \n",
       "...     ...                                                ...    ...   \n",
       "9271   test  COc1ccc2nccc([C@@H](O)CC[C@@H]3CCN(CCSc4ccc[se...    NaN   \n",
       "9272   test  C[C@@]1(CC[C@](C)(C1)c2nc(c3ccc(cc3)C(=O)Nc4cc...    NaN   \n",
       "9273   test  Cc1noc(n1)c2cccc(CN3CCN(CC3)C(=O)c4ccc(C[C@@H]...    NaN   \n",
       "9274   test  CCN(CC)Cc1cc(\\C=N\\N=C(/N)\\CC(O)c2cc3c(F)cc(F)c...    NaN   \n",
       "9275   test  COC(=O)N[C@@H](C(C)C)C(=O)N1CCC[C@H]1c2ncc([nH...    NaN   \n",
       "\n",
       "             1  predict  \n",
       "0     0.983695      1.0  \n",
       "1     0.952843      1.0  \n",
       "2     0.957418      1.0  \n",
       "3     0.955474      1.0  \n",
       "4     0.934284      1.0  \n",
       "...        ...      ...  \n",
       "9271       NaN      0.0  \n",
       "9272       NaN      0.0  \n",
       "9273       NaN      0.0  \n",
       "9274       NaN      0.0  \n",
       "9275       NaN      0.0  \n",
       "\n",
       "[9276 rows x 5 columns]"
      ]
     },
     "execution_count": 273,
     "metadata": {},
     "output_type": "execute_result"
    }
   ],
   "source": [
    "df_result"
   ]
  },
  {
   "cell_type": "code",
   "execution_count": 309,
   "metadata": {},
   "outputs": [],
   "source": [
    "df_result = df_tot[['type','SMILES','label']]\n",
    "df_result.loc[:, '1'] = pd.Series(np.hstack([prob_results, results.mean(axis=0)]))\n",
    "df_result.loc[:, 'predict'] = (df_result['1'] > 0.5).astype(int)\n",
    "df_result = df_result[['type', 'SMILES', '1', 'label', 'predict']]"
   ]
  },
  {
   "cell_type": "code",
   "execution_count": 317,
   "metadata": {},
   "outputs": [],
   "source": [
    "OUTPUT_PATH = '/Users/skcc10170/Desktop/data/model_result/'\n",
    "output_name = 'model_acc_' + \"{:.4f}\".format(np.mean(val_acc)) \\\n",
    "                           + '_f1_' + \"{:.4f}\".format(np.mean(val_f1)) \\\n",
    "                           + '_loss_' + \"{:.4f}\".format(np.mean(val_loss)) \\\n",
    "                           + '.csv'"
   ]
  },
  {
   "cell_type": "code",
   "execution_count": 318,
   "metadata": {},
   "outputs": [
    {
     "name": "stdout",
     "output_type": "stream",
     "text": [
      "model_acc_0.8062_f1_0.8252_loss_0.4144.csv\n"
     ]
    }
   ],
   "source": [
    "df_result.to_csv(OUTPUT_PATH + output_name)\n",
    "print(output_name)"
   ]
  }
 ],
 "metadata": {
  "kernelspec": {
   "display_name": "Python 3",
   "language": "python",
   "name": "python3"
  },
  "language_info": {
   "codemirror_mode": {
    "name": "ipython",
    "version": 3
   },
   "file_extension": ".py",
   "mimetype": "text/x-python",
   "name": "python",
   "nbconvert_exporter": "python",
   "pygments_lexer": "ipython3",
   "version": "3.7.3"
  }
 },
 "nbformat": 4,
 "nbformat_minor": 4
}
