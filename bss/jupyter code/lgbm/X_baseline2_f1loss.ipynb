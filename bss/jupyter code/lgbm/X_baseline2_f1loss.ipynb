{
 "cells": [
  {
   "cell_type": "markdown",
   "metadata": {},
   "source": [
    "# baseline 2\n",
    "\n",
    "    설명\n",
    "    \n",
    "    1. 데이터셋\n",
    "    - [O] orgin\n",
    "    \n",
    "    2. 전처리\n",
    "    - [O] stand.\n",
    "    \n",
    "    3. lgbm\n",
    "    - [X] binary classification loss\n",
    "    - [O] f1 loss"
   ]
  },
  {
   "cell_type": "markdown",
   "metadata": {},
   "source": [
    "### import library"
   ]
  },
  {
   "cell_type": "code",
   "execution_count": 1,
   "metadata": {},
   "outputs": [
    {
     "name": "stderr",
     "output_type": "stream",
     "text": [
      "RDKit WARNING: [01:21:55] Enabling RDKit 2019.09.3 jupyter extensions\n",
      "/Users/skcc10170/anaconda3/lib/python3.7/site-packages/lightgbm/__init__.py:46: UserWarning: Starting from version 2.2.1, the library file in distribution wheels for macOS is built by the Apple Clang (Xcode_9.4.1) compiler.\n",
      "This means that in case of installing LightGBM from PyPI via the ``pip install lightgbm`` command, you don't need to install the gcc compiler anymore.\n",
      "Instead of that, you need to install the OpenMP library, which is required for running LightGBM on the system with the Apple Clang compiler.\n",
      "You can install the OpenMP library by the following command: ``brew install libomp``.\n",
      "  \"You can install the OpenMP library by the following command: ``brew install libomp``.\", UserWarning)\n"
     ]
    }
   ],
   "source": [
    "import pandas as pd\n",
    "import numpy as np\n",
    "import seaborn as sns\n",
    "\n",
    "import matplotlib.pyplot as plt\n",
    "from rdkit import Chem\n",
    "%matplotlib inline\n",
    "\n",
    "import lightgbm as lgbm\n",
    "\n",
    "from sklearn.model_selection import StratifiedKFold\n",
    "from sklearn.metrics import log_loss, f1_score, accuracy_score"
   ]
  },
  {
   "cell_type": "markdown",
   "metadata": {},
   "source": [
    "### load data"
   ]
  },
  {
   "cell_type": "code",
   "execution_count": 2,
   "metadata": {},
   "outputs": [],
   "source": [
    "CURRENT_PATH = '/Users/skcc10170/Desktop'\n",
    "\n",
    "df_train = pd.read_csv(CURRENT_PATH + '/data/org/train_.csv')\n",
    "df_valid = pd.read_csv(CURRENT_PATH + '/data/org/valid_.csv')\n",
    "df_test = pd.read_csv(CURRENT_PATH + '/data/org/predict_input.csv')\n",
    "\n",
    "df_tot = pd.concat([df_train, df_valid, df_test], sort=True).reset_index(drop=True)"
   ]
  },
  {
   "cell_type": "markdown",
   "metadata": {},
   "source": [
    "### data feature"
   ]
  },
  {
   "cell_type": "code",
   "execution_count": 3,
   "metadata": {},
   "outputs": [],
   "source": [
    "# find all columns\n",
    "cols = df_train.columns\n",
    "\n",
    "# smiles code\n",
    "cols_smiles = 'SMILES'\n",
    "\n",
    "# node-edge level (3 footprints)\n",
    "cols_ecfp = list(cols[cols.str.contains('ecfp_')]) # ecfp 1024개\n",
    "cols_fcfp = list(cols[cols.str.contains('fcfp_')]) # fcfp 1024개\n",
    "cols_ptfp = list(cols[cols.str.contains('ptfp_')]) # ptfp 1024개\n",
    "\n",
    "# graph level\n",
    "cols_mol = ['MolWt', 'clogp', 'sa_score', 'qed']\n",
    "\n",
    "# input cols\n",
    "cols_input1 = cols_ecfp + cols_fcfp + cols_ptfp\n",
    "cols_input2 = cols_mol\n",
    "cols_input  = cols_input1 + cols_input2\n",
    "\n",
    "# label\n",
    "cols_label = 'label'"
   ]
  },
  {
   "cell_type": "markdown",
   "metadata": {},
   "source": [
    "### CV start!"
   ]
  },
  {
   "cell_type": "code",
   "execution_count": 14,
   "metadata": {},
   "outputs": [],
   "source": [
    "n_splits     = 5\n",
    "random_state = 2020\n",
    "num_test     = len(df_test) # 927\n",
    "\n",
    "kfold = StratifiedKFold(n_splits=n_splits, random_state=random_state, shuffle=True)"
   ]
  },
  {
   "cell_type": "code",
   "execution_count": 15,
   "metadata": {},
   "outputs": [],
   "source": [
    "x_train, y_train = df_train[cols_input].values, df_train[cols_label].values\n",
    "x_valid, y_valid = df_valid[cols_input].values, df_valid[cols_label].values\n",
    "x_test = df_test[cols_input].values\n",
    "\n",
    "trainset_x = np.vstack([x_train, x_valid])\n",
    "trainset_y = np.hstack([y_train, y_valid])"
   ]
  },
  {
   "cell_type": "code",
   "execution_count": 19,
   "metadata": {},
   "outputs": [],
   "source": [
    "params = {\n",
    "    'objective' :'binary',\n",
    "    'learning_rate' : 0.03,\n",
    "    'num_leaves' : 60,\n",
    "    'feature_fraction': 0.9, \n",
    "    'bagging_fraction': 0.8, \n",
    "    'bagging_freq':1,\n",
    "    'boosting_type' : 'dart',\n",
    "    'metric': 'binary_logloss',\n",
    "    'max_depth' : 32\n",
    "}"
   ]
  },
  {
   "cell_type": "code",
   "execution_count": 20,
   "metadata": {},
   "outputs": [],
   "source": [
    "def lgb_f1_score(y_hat, data):\n",
    "    y_true = data.get_label()\n",
    "    y_hat = np.round(y_hat) # scikits f1 doesn't like probabilities\n",
    "    return 'f1', f1_score(y_true, y_hat), True"
   ]
  },
  {
   "cell_type": "code",
   "execution_count": 21,
   "metadata": {},
   "outputs": [
    {
     "name": "stdout",
     "output_type": "stream",
     "text": [
      "Training until validation scores don't improve for 50 rounds.\n",
      "Early stopping, best iteration is:\n",
      "[94]\ttrain's binary_logloss: 0.472182\ttrain's f1: 0.873727\tval's binary_logloss: 0.522799\tval's f1: 0.812134\n",
      "Fold 0 | Valid Accuracy: 0.7881508078994613, F1 Score: 0.8113006396588486\n",
      "Training until validation scores don't improve for 50 rounds.\n",
      "Early stopping, best iteration is:\n",
      "[15]\ttrain's binary_logloss: 0.592941\ttrain's f1: 0.829071\tval's binary_logloss: 0.618189\tval's f1: 0.781676\n",
      "Fold 1 | Valid Accuracy: 0.7259126271693597, F1 Score: 0.7746062992125984\n",
      "Training until validation scores don't improve for 50 rounds.\n",
      "Early stopping, best iteration is:\n",
      "[125]\ttrain's binary_logloss: 0.451656\ttrain's f1: 0.88\tval's binary_logloss: 0.526438\tval's f1: 0.788523\n",
      "Fold 2 | Valid Accuracy: 0.7573397243858598, F1 Score: 0.7837693539775761\n",
      "Training until validation scores don't improve for 50 rounds.\n",
      "Early stopping, best iteration is:\n",
      "[205]\ttrain's binary_logloss: 0.405782\ttrain's f1: 0.896422\tval's binary_logloss: 0.482112\tval's f1: 0.820896\n",
      "Fold 3 | Valid Accuracy: 0.799281006590773, F1 Score: 0.8213333333333334\n",
      "Training until validation scores don't improve for 50 rounds.\n",
      "Early stopping, best iteration is:\n",
      "[26]\ttrain's binary_logloss: 0.541919\ttrain's f1: 0.847523\tval's binary_logloss: 0.571914\tval's f1: 0.807247\n",
      "Fold 4 | Valid Accuracy: 0.762732174955063, F1 Score: 0.8012048192771085\n",
      "Valid Accuracy: 0.7666832682001034, F1 Score: 0.798442889091893\n"
     ]
    }
   ],
   "source": [
    "val_f1, val_acc = [], []\n",
    "results = np.zeros((kfold.n_splits, num_test), dtype=np.float)\n",
    "\n",
    "for i, (train_idx, valid_idx) in enumerate(kfold.split(trainset_x, trainset_y)):\n",
    "    \n",
    "    # 데이터셋 나눔(train, valid & x,y)\n",
    "    x_train, y_train = trainset_x[train_idx], trainset_y[train_idx]\n",
    "    x_valid, y_valid = trainset_x[valid_idx], trainset_y[valid_idx]\n",
    "    \n",
    "    # 트레인셋 기준으로 평균값, 표준편차 계산\n",
    "    ## 수치형 변수 기준\n",
    "    ### baseline : cols_input2(수치형)\n",
    "    cktpt = len(cols_input2)\n",
    "    tr_mean, tr_std = x_train[:, -cktpt:].mean(axis=0), x_train[:, -cktpt:].std(axis=0)\n",
    "    \n",
    "    # train/valid \n",
    "    x_train[:,-cktpt:] = (x_train[:,-cktpt:] - tr_mean) / tr_std\n",
    "    x_valid[:,-cktpt:] = (x_valid[:,-cktpt:] - tr_mean) / tr_std\n",
    "    x_test[:,-cktpt:]  = (x_test[:,-cktpt:]  - tr_mean) / tr_std\n",
    "    \n",
    "    d_train = lgbm.Dataset(x_train, y_train)\n",
    "    d_valid = lgbm.Dataset(x_valid, y_valid)\n",
    "    \n",
    "    evals_result = {}\n",
    "    model = lgbm.train(params, d_train, 30000, valid_sets=[d_valid, d_train], valid_names=['val', 'train'],\n",
    "                       feval=lgb_f1_score, evals_result=evals_result, verbose_eval=1000, early_stopping_rounds=50)\n",
    "#     lgb.plot_metric(evals_result, metric='f1')\n",
    "\n",
    "    y_valid_pred = (model.predict(x_valid, num_iteration=model.best_iteration) > 0.5).astype(int)\n",
    "\n",
    "    f1 = f1_score(y_valid, y_valid_pred)\n",
    "    acc = accuracy_score(y_valid, y_valid_pred)\n",
    "    \n",
    "    print(f'Fold {i} | Valid Accuracy: {acc}, F1 Score: {f1}')\n",
    "\n",
    "    results[i] = model.predict(x_test, num_iteration=model.best_iteration)\n",
    "    val_f1.append(f1)\n",
    "    val_acc.append(acc)\n",
    "\n",
    "print(f'Valid Accuracy: {np.mean(val_acc)}, F1 Score: {np.mean(val_f1)}')"
   ]
  }
 ],
 "metadata": {
  "kernelspec": {
   "display_name": "Python 3",
   "language": "python",
   "name": "python3"
  },
  "language_info": {
   "codemirror_mode": {
    "name": "ipython",
    "version": 3
   },
   "file_extension": ".py",
   "mimetype": "text/x-python",
   "name": "python",
   "nbconvert_exporter": "python",
   "pygments_lexer": "ipython3",
   "version": "3.7.3"
  }
 },
 "nbformat": 4,
 "nbformat_minor": 4
}
