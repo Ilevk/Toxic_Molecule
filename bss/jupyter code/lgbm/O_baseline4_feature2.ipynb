{
 "cells": [
  {
   "cell_type": "markdown",
   "metadata": {},
   "source": [
    "# baseline 1\n",
    "\n",
    "    설명\n",
    "    \n",
    "    1. 데이터셋\n",
    "    - [X] orgin\n",
    "    - [O] origin + mol features\n",
    "    \n",
    "    2. 전처리\n",
    "    - [O] stand.\n",
    "    \n",
    "    3. lgbm\n",
    "    - [O] binary classification loss"
   ]
  },
  {
   "cell_type": "markdown",
   "metadata": {},
   "source": [
    "### import library"
   ]
  },
  {
   "cell_type": "code",
   "execution_count": 28,
   "metadata": {},
   "outputs": [],
   "source": [
    "import pandas as pd\n",
    "import numpy as np\n",
    "import seaborn as sns\n",
    "\n",
    "import matplotlib.pyplot as plt\n",
    "from rdkit import Chem\n",
    "from rdkit.Chem import Descriptors, Fragments, Lipinski, Crippen, MolSurf\n",
    "\n",
    "%matplotlib inline\n",
    "\n",
    "import lightgbm as lgbm\n",
    "\n",
    "from sklearn.model_selection import StratifiedKFold, RandomizedSearchCV\n",
    "from sklearn.metrics import log_loss, f1_score, accuracy_score\n",
    "from sklearn.metrics import confusion_matrix, roc_curve, auc"
   ]
  },
  {
   "cell_type": "markdown",
   "metadata": {},
   "source": [
    "### load data"
   ]
  },
  {
   "cell_type": "code",
   "execution_count": 29,
   "metadata": {},
   "outputs": [],
   "source": [
    "CURRENT_PATH = '/Users/skcc10170/Desktop'\n",
    "\n",
    "df_train = pd.read_csv(CURRENT_PATH + '/data/org/train_.csv')\n",
    "df_valid = pd.read_csv(CURRENT_PATH + '/data/org/valid_.csv')\n",
    "df_test = pd.read_csv(CURRENT_PATH + '/data/org/predict_input.csv')\n",
    "\n",
    "df_train['type'] = 'train'\n",
    "df_valid['type'] = 'valid'\n",
    "df_test['type']  = 'test'\n",
    "\n",
    "df_tot = pd.concat([df_train, df_valid, df_test], sort=True).reset_index(drop=True)"
   ]
  },
  {
   "cell_type": "markdown",
   "metadata": {},
   "source": [
    "### feature generating from molecule"
   ]
  },
  {
   "cell_type": "code",
   "execution_count": 30,
   "metadata": {},
   "outputs": [
    {
     "data": {
      "image/png": "[encoded data removed]",
      "text/plain": [
       "<rdkit.Chem.rdchem.Mol at 0x1a1ccfdee0>"
      ]
     },
     "execution_count": 30,
     "metadata": {},
     "output_type": "execute_result"
    }
   ],
   "source": [
    "# for test\n",
    "sample = df_tot['SMILES'][5]\n",
    "sample = Chem.MolFromSmiles(sample)\n",
    "sample"
   ]
  },
  {
   "cell_type": "code",
   "execution_count": 31,
   "metadata": {},
   "outputs": [],
   "source": [
    "from rdkit.Chem import Fragments"
   ]
  },
  {
   "cell_type": "code",
   "execution_count": 32,
   "metadata": {},
   "outputs": [
    {
     "data": {
      "text/plain": [
       "(0, 0)"
      ]
     },
     "execution_count": 32,
     "metadata": {},
     "output_type": "execute_result"
    }
   ],
   "source": [
    "Fragments.fr_phos_acid(sample),  Fragments.fr_phos_ester(sample)"
   ]
  },
  {
   "cell_type": "code",
   "execution_count": 33,
   "metadata": {},
   "outputs": [],
   "source": [
    "df_tot['myf_NumAtoms']            = df_tot.SMILES.apply(lambda x: Chem.MolFromSmiles(x).GetNumAtoms())\n",
    "df_tot['myf_NumHeavyAtoms']       = df_tot.SMILES.apply(lambda x: Chem.MolFromSmiles(x).GetNumHeavyAtoms())\n",
    "df_tot['myf_GetNumBonds']         = df_tot.SMILES.apply(lambda x: Chem.MolFromSmiles(x).GetNumBonds())\n",
    "df_tot['myf_GetNumHeavyBonds']    = df_tot.SMILES.apply(lambda x: Chem.MolFromSmiles(x).GetNumBonds(onlyHeavy=True))\n",
    "\n",
    "df_tot['myf_ExactMolWt']          = df_tot.SMILES.apply(lambda x: Descriptors.ExactMolWt(Chem.MolFromSmiles(x)))\n",
    "df_tot['myf_HeavyAtomMolWt']      = df_tot.SMILES.apply(lambda x: Descriptors.HeavyAtomMolWt(Chem.MolFromSmiles(x)))\n",
    "df_tot['myf_FpDensityMorgan1']    = df_tot.SMILES.apply(lambda x: Descriptors.FpDensityMorgan1(Chem.MolFromSmiles(x)))\n",
    "df_tot['myf_FpDensityMorgan2']    = df_tot.SMILES.apply(lambda x: Descriptors.FpDensityMorgan2(Chem.MolFromSmiles(x)))\n",
    "df_tot['myf_FpDensityMorgan3']    = df_tot.SMILES.apply(lambda x: Descriptors.FpDensityMorgan3(Chem.MolFromSmiles(x)))\n",
    "df_tot['myf_MaxAbsPartialCharge'] = df_tot.SMILES.apply(lambda x: Descriptors.MaxAbsPartialCharge(Chem.MolFromSmiles(x)))\n",
    "df_tot['myf_MaxPartialCharge']    = df_tot.SMILES.apply(lambda x: Descriptors.MaxPartialCharge(Chem.MolFromSmiles(x)))\n",
    "df_tot['myf_MinAbsPartialCharge'] = df_tot.SMILES.apply(lambda x: Descriptors.MinAbsPartialCharge(Chem.MolFromSmiles(x)))\n",
    "df_tot['myf_MinPartialCharge']    = df_tot.SMILES.apply(lambda x: Descriptors.MinPartialCharge(Chem.MolFromSmiles(x)))\n",
    "df_tot['myf_MolWt']               = df_tot.SMILES.apply(lambda x: Descriptors.MolWt(Chem.MolFromSmiles(x)))\n",
    "df_tot['myf_NumRadicalElectrons'] = df_tot.SMILES.apply(lambda x: Descriptors.NumRadicalElectrons(Chem.MolFromSmiles(x)))\n",
    "df_tot['myf_NumValenceElectrons'] = df_tot.SMILES.apply(lambda x: Descriptors.NumValenceElectrons(Chem.MolFromSmiles(x)))\n",
    "\n",
    "df_tot['myf_NumDoubleBondType'] = df_tot.SMILES.apply(lambda x: len([1 for b in Chem.MolFromSmiles(x).GetBonds() if b.GetBondTypeAsDouble() == 1.0]))\n",
    "\n",
    "\n",
    "df_tot['myf_NumAromaticCarbocycles']   = df_tot.SMILES.apply(lambda x: Lipinski.NumAromaticCarbocycles(Chem.MolFromSmiles(x)))\n",
    "df_tot['myf_MolLogP']   = df_tot.SMILES.apply(lambda x: Crippen.MolLogP(Chem.MolFromSmiles(x)))\n",
    "df_tot['myf_PEOE_VSA1']   = df_tot.SMILES.apply(lambda x: MolSurf.PEOE_VSA1(Chem.MolFromSmiles(x)))"
   ]
  },
  {
   "cell_type": "code",
   "execution_count": 34,
   "metadata": {},
   "outputs": [],
   "source": [
    "df_tot['myf_FractionCSP3']              = df_tot.SMILES.apply(lambda x: Lipinski.FractionCSP3(Chem.MolFromSmiles(x)))\n",
    "df_tot['myf_NHOHCount']                 = df_tot.SMILES.apply(lambda x: Lipinski.NHOHCount(Chem.MolFromSmiles(x)))\n",
    "df_tot['myf_NOCount']                   = df_tot.SMILES.apply(lambda x: Lipinski.NOCount(Chem.MolFromSmiles(x)))\n",
    "df_tot['myf_NumAliphaticCarbocycles']   = df_tot.SMILES.apply(lambda x: Lipinski.NumAliphaticCarbocycles(Chem.MolFromSmiles(x)))\n",
    "df_tot['myf_NumAliphaticHeterocycles']  = df_tot.SMILES.apply(lambda x: Lipinski.NumAliphaticHeterocycles(Chem.MolFromSmiles(x)))\n",
    "df_tot['myf_NumAliphaticRings']         = df_tot.SMILES.apply(lambda x: Lipinski.NumAliphaticRings(Chem.MolFromSmiles(x)))\n",
    "df_tot['myf_NumAromaticCarbocycles']    = df_tot.SMILES.apply(lambda x: Lipinski.NumAromaticCarbocycles(Chem.MolFromSmiles(x)))\n",
    "df_tot['myf_NumAromaticHeterocycles']   = df_tot.SMILES.apply(lambda x: Lipinski.NumAromaticHeterocycles(Chem.MolFromSmiles(x)))\n",
    "df_tot['myf_NumAromaticRings']          = df_tot.SMILES.apply(lambda x: Lipinski.NumAromaticRings(Chem.MolFromSmiles(x)))\n",
    "df_tot['myf_NumHAcceptors']             = df_tot.SMILES.apply(lambda x: Lipinski.NumHAcceptors(Chem.MolFromSmiles(x)))\n",
    "df_tot['myf_NumHDonors']                = df_tot.SMILES.apply(lambda x: Lipinski.NumHDonors(Chem.MolFromSmiles(x)))\n",
    "df_tot['myf_NumHeteroatoms']            = df_tot.SMILES.apply(lambda x: Lipinski.NumHeteroatoms(Chem.MolFromSmiles(x)))\n",
    "df_tot['myf_NumRotatableBonds']         = df_tot.SMILES.apply(lambda x: Lipinski.NumRotatableBonds(Chem.MolFromSmiles(x)))\n",
    "df_tot['myf_NumSaturatedCarbocycles']   = df_tot.SMILES.apply(lambda x: Lipinski.NumSaturatedCarbocycles(Chem.MolFromSmiles(x)))\n",
    "df_tot['myf_NumSaturatedHeterocycles']  = df_tot.SMILES.apply(lambda x: Lipinski.NumSaturatedHeterocycles(Chem.MolFromSmiles(x)))\n",
    "df_tot['myf_NumSaturatedRings']         = df_tot.SMILES.apply(lambda x: Lipinski.NumSaturatedRings(Chem.MolFromSmiles(x)))\n",
    "df_tot['myf_RingCount']                 = df_tot.SMILES.apply(lambda x: Lipinski.RingCount(Chem.MolFromSmiles(x)))"
   ]
  },
  {
   "cell_type": "code",
   "execution_count": 35,
   "metadata": {},
   "outputs": [],
   "source": [
    "df_tot['myf_fr_phos_acid']    = df_tot.SMILES.apply(lambda x: Fragments.fr_phos_acid(Chem.MolFromSmiles(x)))\n",
    "df_tot['myf_fr_phos_ester']   = df_tot.SMILES.apply(lambda x: Fragments.fr_phos_ester(Chem.MolFromSmiles(x)))\n",
    "\n",
    "df_tot['myf_fr_Al_COO']   = df_tot.SMILES.apply(lambda x: Fragments.fr_Al_COO(Chem.MolFromSmiles(x)))\n",
    "df_tot['myf_fr_Al_OH']   = df_tot.SMILES.apply(lambda x: Fragments.fr_Al_OH(Chem.MolFromSmiles(x)))\n",
    "df_tot['myf_fr_Al_OH_noTert']   = df_tot.SMILES.apply(lambda x: Fragments.fr_Al_OH_noTert(Chem.MolFromSmiles(x)))\n",
    "df_tot['myf_fr_ArN']   = df_tot.SMILES.apply(lambda x: Fragments.fr_ArN(Chem.MolFromSmiles(x)))\n",
    "df_tot['myf_fr_Ar_COO']   = df_tot.SMILES.apply(lambda x: Fragments.fr_Ar_COO(Chem.MolFromSmiles(x)))\n",
    "df_tot['myf_fr_Ar_N']   = df_tot.SMILES.apply(lambda x: Fragments.fr_Ar_N(Chem.MolFromSmiles(x)))\n",
    "df_tot['myf_fr_Ar_NH']   = df_tot.SMILES.apply(lambda x: Fragments.fr_Ar_NH(Chem.MolFromSmiles(x)))\n",
    "df_tot['myf_fr_Ar_OH']   = df_tot.SMILES.apply(lambda x: Fragments.fr_Ar_OH(Chem.MolFromSmiles(x)))\n",
    "df_tot['myf_fr_COO']   = df_tot.SMILES.apply(lambda x: Fragments.fr_COO(Chem.MolFromSmiles(x)))\n",
    "df_tot['myf_fr_COO2']   = df_tot.SMILES.apply(lambda x: Fragments.fr_COO2(Chem.MolFromSmiles(x)))\n",
    "df_tot['myf_fr_C_O']   = df_tot.SMILES.apply(lambda x: Fragments.fr_C_O(Chem.MolFromSmiles(x)))\n",
    "df_tot['myf_fr_C_O_noCOO']   = df_tot.SMILES.apply(lambda x: Fragments.fr_C_O_noCOO(Chem.MolFromSmiles(x)))\n",
    "df_tot['myf_fr_C_S']   = df_tot.SMILES.apply(lambda x: Fragments.fr_C_S(Chem.MolFromSmiles(x)))\n",
    "df_tot['myf_fr_HOCCN']   = df_tot.SMILES.apply(lambda x: Fragments.fr_HOCCN(Chem.MolFromSmiles(x)))\n",
    "df_tot['myf_fr_Imine']   = df_tot.SMILES.apply(lambda x: Fragments.fr_Imine(Chem.MolFromSmiles(x)))\n",
    "df_tot['myf_fr_NH0']   = df_tot.SMILES.apply(lambda x: Fragments.fr_NH0(Chem.MolFromSmiles(x)))\n",
    "df_tot['myf_fr_NH1']   = df_tot.SMILES.apply(lambda x: Fragments.fr_NH1(Chem.MolFromSmiles(x)))\n",
    "df_tot['myf_fr_NH2']   = df_tot.SMILES.apply(lambda x: Fragments.fr_NH2(Chem.MolFromSmiles(x)))\n",
    "df_tot['myf_fr_N_O']   = df_tot.SMILES.apply(lambda x: Fragments.fr_N_O(Chem.MolFromSmiles(x)))\n",
    "df_tot['myf_fr_Ndealkylation1']   = df_tot.SMILES.apply(lambda x: Fragments.fr_Ndealkylation1(Chem.MolFromSmiles(x)))\n",
    "df_tot['myf_fr_Ndealkylation2']   = df_tot.SMILES.apply(lambda x: Fragments.fr_Ndealkylation2(Chem.MolFromSmiles(x)))\n",
    "df_tot['myf_fr_Nhpyrrole']   = df_tot.SMILES.apply(lambda x: Fragments.fr_Nhpyrrole(Chem.MolFromSmiles(x)))\n",
    "df_tot['myf_fr_SH']   = df_tot.SMILES.apply(lambda x: Fragments.fr_SH(Chem.MolFromSmiles(x)))\n",
    "df_tot['myf_fr_aldehyde']   = df_tot.SMILES.apply(lambda x: Fragments.fr_aldehyde(Chem.MolFromSmiles(x)))"
   ]
  },
  {
   "cell_type": "code",
   "execution_count": 36,
   "metadata": {},
   "outputs": [],
   "source": [
    "df_tot['myf_fr_alkyl_carbamate']   = df_tot.SMILES.apply(lambda x: Fragments.fr_alkyl_carbamate(Chem.MolFromSmiles(x)))\n",
    "df_tot['myf_fr_alkyl_halide']   = df_tot.SMILES.apply(lambda x: Fragments.fr_alkyl_halide(Chem.MolFromSmiles(x)))\n",
    "df_tot['myf_fr_allylic_oxid']   = df_tot.SMILES.apply(lambda x: Fragments.fr_allylic_oxid(Chem.MolFromSmiles(x)))\n",
    "df_tot['myf_fr_amide']   = df_tot.SMILES.apply(lambda x: Fragments.fr_amide(Chem.MolFromSmiles(x)))\n",
    "df_tot['myf_fr_amidine']   = df_tot.SMILES.apply(lambda x: Fragments.fr_amidine(Chem.MolFromSmiles(x)))\n",
    "df_tot['myf_fr_aniline']   = df_tot.SMILES.apply(lambda x: Fragments.fr_aniline(Chem.MolFromSmiles(x)))\n",
    "df_tot['myf_fr_aryl_methyl']   = df_tot.SMILES.apply(lambda x: Fragments.fr_aryl_methyl(Chem.MolFromSmiles(x)))\n",
    "df_tot['myf_fr_azide']   = df_tot.SMILES.apply(lambda x: Fragments.fr_azide(Chem.MolFromSmiles(x)))\n",
    "df_tot['myf_fr_azo']   = df_tot.SMILES.apply(lambda x: Fragments.fr_azo(Chem.MolFromSmiles(x)))\n",
    "df_tot['myf_fr_barbitur']   = df_tot.SMILES.apply(lambda x: Fragments.fr_barbitur(Chem.MolFromSmiles(x)))\n",
    "df_tot['myf_fr_benzene']   = df_tot.SMILES.apply(lambda x: Fragments.fr_benzene(Chem.MolFromSmiles(x)))\n",
    "df_tot['myf_fr_benzodiazepine']   = df_tot.SMILES.apply(lambda x: Fragments.fr_benzodiazepine(Chem.MolFromSmiles(x)))\n",
    "df_tot['myf_fr_bicyclic']   = df_tot.SMILES.apply(lambda x: Fragments.fr_bicyclic(Chem.MolFromSmiles(x)))\n",
    "df_tot['myf_fr_diazo']   = df_tot.SMILES.apply(lambda x: Fragments.fr_diazo(Chem.MolFromSmiles(x)))\n",
    "df_tot['myf_fr_dihydropyridine']   = df_tot.SMILES.apply(lambda x: Fragments.fr_dihydropyridine(Chem.MolFromSmiles(x)))\n",
    "df_tot['myf_fr_epoxide']   = df_tot.SMILES.apply(lambda x: Fragments.fr_epoxide(Chem.MolFromSmiles(x)))\n",
    "df_tot['myf_fr_ester']   = df_tot.SMILES.apply(lambda x: Fragments.fr_ester(Chem.MolFromSmiles(x)))\n",
    "df_tot['myf_fr_ether']   = df_tot.SMILES.apply(lambda x: Fragments.fr_ether(Chem.MolFromSmiles(x)))\n",
    "df_tot['myf_fr_furan']   = df_tot.SMILES.apply(lambda x: Fragments.fr_furan(Chem.MolFromSmiles(x)))\n",
    "df_tot['myf_fr_guanido']   = df_tot.SMILES.apply(lambda x: Fragments.fr_guanido(Chem.MolFromSmiles(x)))\n",
    "df_tot['myf_fr_halogen']   = df_tot.SMILES.apply(lambda x: Fragments.fr_halogen(Chem.MolFromSmiles(x)))\n",
    "\n",
    "df_tot['myf_fr_hdrzine']   = df_tot.SMILES.apply(lambda x: Fragments.fr_hdrzine(Chem.MolFromSmiles(x)))\n",
    "df_tot['myf_fr_hdrzone']   = df_tot.SMILES.apply(lambda x: Fragments.fr_hdrzone(Chem.MolFromSmiles(x)))\n",
    "df_tot['myf_fr_imidazole']   = df_tot.SMILES.apply(lambda x: Fragments.fr_imidazole(Chem.MolFromSmiles(x)))\n",
    "df_tot['myf_fr_imide']   = df_tot.SMILES.apply(lambda x: Fragments.fr_imide(Chem.MolFromSmiles(x)))\n",
    "df_tot['myf_fr_isocyan']   = df_tot.SMILES.apply(lambda x: Fragments.fr_isocyan(Chem.MolFromSmiles(x)))\n",
    "\n",
    "df_tot['myf_fr_isothiocyan']   = df_tot.SMILES.apply(lambda x: Fragments.fr_isothiocyan(Chem.MolFromSmiles(x)))\n",
    "df_tot['myf_fr_ketone']   = df_tot.SMILES.apply(lambda x: Fragments.fr_ketone(Chem.MolFromSmiles(x)))\n",
    "df_tot['myf_fr_ketone_Topliss']   = df_tot.SMILES.apply(lambda x: Fragments.fr_ketone_Topliss(Chem.MolFromSmiles(x)))\n",
    "df_tot['myf_fr_lactam']   = df_tot.SMILES.apply(lambda x: Fragments.fr_lactam(Chem.MolFromSmiles(x)))\n",
    "df_tot['myf_fr_lactone']   = df_tot.SMILES.apply(lambda x: Fragments.fr_lactone(Chem.MolFromSmiles(x)))\n",
    "df_tot['myf_fr_methoxy']   = df_tot.SMILES.apply(lambda x: Fragments.fr_methoxy(Chem.MolFromSmiles(x)))\n",
    "df_tot['myf_fr_morpholine']   = df_tot.SMILES.apply(lambda x: Fragments.fr_morpholine(Chem.MolFromSmiles(x)))\n",
    "df_tot['myf_fr_nitrile']   = df_tot.SMILES.apply(lambda x: Fragments.fr_nitrile(Chem.MolFromSmiles(x)))\n",
    "df_tot['myf_fr_nitro']   = df_tot.SMILES.apply(lambda x: Fragments.fr_nitro(Chem.MolFromSmiles(x)))\n",
    "df_tot['myf_fr_nitro_arom']   = df_tot.SMILES.apply(lambda x: Fragments.fr_nitro_arom(Chem.MolFromSmiles(x)))\n",
    "\n",
    "df_tot['myf_fr_nitro_arom_nonortho']   = df_tot.SMILES.apply(lambda x: Fragments.fr_nitro_arom_nonortho(Chem.MolFromSmiles(x)))\n",
    "df_tot['myf_fr_nitroso']   = df_tot.SMILES.apply(lambda x: Fragments.fr_nitroso(Chem.MolFromSmiles(x)))\n",
    "\n",
    "df_tot['myf_fr_oxazole']   = df_tot.SMILES.apply(lambda x: Fragments.fr_oxazole(Chem.MolFromSmiles(x)))\n",
    "df_tot['myf_fr_oxime']   = df_tot.SMILES.apply(lambda x: Fragments.fr_oxime(Chem.MolFromSmiles(x)))\n",
    "df_tot['myf_fr_para_hydroxylation']   = df_tot.SMILES.apply(lambda x: Fragments.fr_para_hydroxylation(Chem.MolFromSmiles(x)))\n",
    "df_tot['myf_fr_phenol']   = df_tot.SMILES.apply(lambda x: Fragments.fr_phenol(Chem.MolFromSmiles(x)))\n",
    "\n",
    "df_tot['myf_fr_phenol_noOrthoHbond']   = df_tot.SMILES.apply(lambda x: Fragments.fr_phenol_noOrthoHbond(Chem.MolFromSmiles(x)))\n",
    "df_tot['myf_fr_phos_acid']   = df_tot.SMILES.apply(lambda x: Fragments.fr_phos_acid(Chem.MolFromSmiles(x)))\n",
    "df_tot['myf_fr_phos_ester']   = df_tot.SMILES.apply(lambda x: Fragments.fr_phos_ester(Chem.MolFromSmiles(x)))\n",
    "df_tot['myf_fr_piperdine']   = df_tot.SMILES.apply(lambda x: Fragments.fr_piperdine(Chem.MolFromSmiles(x)))\n",
    "df_tot['myf_fr_piperzine']   = df_tot.SMILES.apply(lambda x: Fragments.fr_piperzine(Chem.MolFromSmiles(x)))\n",
    "df_tot['myf_fr_priamide']   = df_tot.SMILES.apply(lambda x: Fragments.fr_priamide(Chem.MolFromSmiles(x)))\n",
    "df_tot['myf_fr_prisulfonamd']   = df_tot.SMILES.apply(lambda x: Fragments.fr_prisulfonamd(Chem.MolFromSmiles(x)))\n",
    "df_tot['myf_fr_pyridine']   = df_tot.SMILES.apply(lambda x: Fragments.fr_pyridine(Chem.MolFromSmiles(x)))\n",
    "df_tot['myf_fr_quatN']   = df_tot.SMILES.apply(lambda x: Fragments.fr_quatN(Chem.MolFromSmiles(x)))\n",
    "df_tot['myf_fr_sulfide']   = df_tot.SMILES.apply(lambda x: Fragments.fr_sulfide(Chem.MolFromSmiles(x)))\n",
    "df_tot['myf_fr_sulfonamd']   = df_tot.SMILES.apply(lambda x: Fragments.fr_sulfonamd(Chem.MolFromSmiles(x)))\n",
    "\n",
    "df_tot['myf_fr_sulfone']   = df_tot.SMILES.apply(lambda x: Fragments.fr_sulfone(Chem.MolFromSmiles(x)))\n",
    "df_tot['myf_fr_term_acetylene']   = df_tot.SMILES.apply(lambda x: Fragments.fr_term_acetylene(Chem.MolFromSmiles(x)))\n",
    "df_tot['myf_fr_tetrazole']   = df_tot.SMILES.apply(lambda x: Fragments.fr_tetrazole(Chem.MolFromSmiles(x)))\n",
    "df_tot['myf_fr_thiazole']   = df_tot.SMILES.apply(lambda x: Fragments.fr_thiazole(Chem.MolFromSmiles(x)))\n",
    "df_tot['myf_ fr_thiocyan']   = df_tot.SMILES.apply(lambda x: Fragments.fr_thiocyan(Chem.MolFromSmiles(x)))\n",
    "\n",
    "df_tot['myf_fr_thiophene']   = df_tot.SMILES.apply(lambda x: Fragments.fr_thiophene(Chem.MolFromSmiles(x)))\n",
    "df_tot['myf_fr_unbrch_alkane']   = df_tot.SMILES.apply(lambda x: Fragments.fr_unbrch_alkane(Chem.MolFromSmiles(x)))\n",
    "df_tot['myf_fr_urea']   = df_tot.SMILES.apply(lambda x: Fragments.fr_urea(Chem.MolFromSmiles(x)))"
   ]
  },
  {
   "cell_type": "markdown",
   "metadata": {},
   "source": [
    "### get dummy"
   ]
  },
  {
   "cell_type": "code",
   "execution_count": 37,
   "metadata": {},
   "outputs": [
    {
     "name": "stdout",
     "output_type": "stream",
     "text": [
      "--\n",
      "--\n",
      "--\n",
      "--\n",
      "--\n",
      "--\n",
      "--\n",
      "--\n",
      "--\n",
      "--\n",
      "--\n",
      "--\n",
      "--\n",
      "--\n",
      "--\n",
      "--\n",
      "--\n",
      "--\n",
      "--\n",
      "--\n",
      "--\n",
      "--\n",
      "--\n",
      "--\n",
      "--\n",
      "--\n",
      "--\n",
      "--\n",
      "--\n",
      "--\n",
      "--\n",
      "--\n",
      "--\n",
      "--\n",
      "--\n",
      "--\n",
      "--\n",
      "--\n",
      "--\n",
      "--\n",
      "--\n",
      "--\n",
      "--\n",
      "--\n",
      "--\n",
      "--\n",
      "--\n",
      "--\n",
      "--\n",
      "--\n",
      "--\n",
      "--\n",
      "--\n",
      "--\n",
      "--\n",
      "--\n",
      "--\n",
      "--\n",
      "--\n",
      "--\n",
      "--\n",
      "--\n",
      "--\n",
      "--\n"
     ]
    }
   ],
   "source": [
    "df_tot2 = df_tot.deepcopy()\n",
    "cols    = df_tot2.columns\n",
    "\n",
    "for col in list(cols[cols.str.contains('myf_')]):\n",
    "    if len(df_tot2[col].value_counts()) > 2 and len(df_tot2[col].value_counts()) < 10:\n",
    "        df_tot2 = df_tot2.join(pd.get_dummies(df_tot2[col],prefix=str(col)))\n",
    "        del df_tot2[col]"
   ]
  },
  {
   "cell_type": "code",
   "execution_count": 59,
   "metadata": {},
   "outputs": [
    {
     "data": {
      "text/plain": [
       "Index(['MolWt', 'SMILES', 'clogp', 'ecfp_0', 'ecfp_1', 'ecfp_10', 'ecfp_100',\n",
       "       'ecfp_1000', 'ecfp_1001', 'ecfp_1002',\n",
       "       ...\n",
       "       'myf_fr_thiophene_1', 'myf_fr_thiophene_2', 'myf_fr_unbrch_alkane_0',\n",
       "       'myf_fr_unbrch_alkane_1', 'myf_fr_unbrch_alkane_2',\n",
       "       'myf_fr_unbrch_alkane_3', 'myf_fr_unbrch_alkane_4',\n",
       "       'myf_fr_unbrch_alkane_5', 'myf_fr_unbrch_alkane_6',\n",
       "       'myf_fr_unbrch_alkane_8'],\n",
       "      dtype='object', length=3438)"
      ]
     },
     "execution_count": 59,
     "metadata": {},
     "output_type": "execute_result"
    }
   ],
   "source": [
    "df_tot2.columns"
   ]
  },
  {
   "cell_type": "markdown",
   "metadata": {},
   "source": [
    "### data feature"
   ]
  },
  {
   "cell_type": "code",
   "execution_count": 45,
   "metadata": {},
   "outputs": [
    {
     "ename": "AttributeError",
     "evalue": "'DataFrame' object has no attribute 'deepcopy'",
     "output_type": "error",
     "traceback": [
      "\u001b[0;31m---------------------------------------------------------------------------\u001b[0m",
      "\u001b[0;31mAttributeError\u001b[0m                            Traceback (most recent call last)",
      "\u001b[0;32m<ipython-input-45-d0a906f69a7b>\u001b[0m in \u001b[0;36m<module>\u001b[0;34m\u001b[0m\n\u001b[0;32m----> 1\u001b[0;31m \u001b[0mdf_tot_org\u001b[0m \u001b[0;34m=\u001b[0m \u001b[0mdf_tot\u001b[0m\u001b[0;34m.\u001b[0m\u001b[0mdeepcopy\u001b[0m\u001b[0;34m(\u001b[0m\u001b[0;34m)\u001b[0m\u001b[0;34m\u001b[0m\u001b[0;34m\u001b[0m\u001b[0m\n\u001b[0m\u001b[1;32m      2\u001b[0m \u001b[0mdf_tot\u001b[0m \u001b[0;34m=\u001b[0m \u001b[0mdf_tot2\u001b[0m\u001b[0;34m.\u001b[0m\u001b[0mdeepcopy\u001b[0m\u001b[0;34m(\u001b[0m\u001b[0;34m)\u001b[0m\u001b[0;34m\u001b[0m\u001b[0;34m\u001b[0m\u001b[0m\n",
      "\u001b[0;32m~/anaconda3/lib/python3.7/site-packages/pandas/core/generic.py\u001b[0m in \u001b[0;36m__getattr__\u001b[0;34m(self, name)\u001b[0m\n\u001b[1;32m   5177\u001b[0m             \u001b[0;32mif\u001b[0m \u001b[0mself\u001b[0m\u001b[0;34m.\u001b[0m\u001b[0m_info_axis\u001b[0m\u001b[0;34m.\u001b[0m\u001b[0m_can_hold_identifiers_and_holds_name\u001b[0m\u001b[0;34m(\u001b[0m\u001b[0mname\u001b[0m\u001b[0;34m)\u001b[0m\u001b[0;34m:\u001b[0m\u001b[0;34m\u001b[0m\u001b[0;34m\u001b[0m\u001b[0m\n\u001b[1;32m   5178\u001b[0m                 \u001b[0;32mreturn\u001b[0m \u001b[0mself\u001b[0m\u001b[0;34m[\u001b[0m\u001b[0mname\u001b[0m\u001b[0;34m]\u001b[0m\u001b[0;34m\u001b[0m\u001b[0;34m\u001b[0m\u001b[0m\n\u001b[0;32m-> 5179\u001b[0;31m             \u001b[0;32mreturn\u001b[0m \u001b[0mobject\u001b[0m\u001b[0;34m.\u001b[0m\u001b[0m__getattribute__\u001b[0m\u001b[0;34m(\u001b[0m\u001b[0mself\u001b[0m\u001b[0;34m,\u001b[0m \u001b[0mname\u001b[0m\u001b[0;34m)\u001b[0m\u001b[0;34m\u001b[0m\u001b[0;34m\u001b[0m\u001b[0m\n\u001b[0m\u001b[1;32m   5180\u001b[0m \u001b[0;34m\u001b[0m\u001b[0m\n\u001b[1;32m   5181\u001b[0m     \u001b[0;32mdef\u001b[0m \u001b[0m__setattr__\u001b[0m\u001b[0;34m(\u001b[0m\u001b[0mself\u001b[0m\u001b[0;34m,\u001b[0m \u001b[0mname\u001b[0m\u001b[0;34m,\u001b[0m \u001b[0mvalue\u001b[0m\u001b[0;34m)\u001b[0m\u001b[0;34m:\u001b[0m\u001b[0;34m\u001b[0m\u001b[0;34m\u001b[0m\u001b[0m\n",
      "\u001b[0;31mAttributeError\u001b[0m: 'DataFrame' object has no attribute 'deepcopy'"
     ]
    }
   ],
   "source": [
    "df_tot_org = df_tot.copy()\n",
    "df_tot = df_tot2.copy()"
   ]
  },
  {
   "cell_type": "code",
   "execution_count": 48,
   "metadata": {},
   "outputs": [
    {
     "data": {
      "text/plain": [
       "(3438, 9276)"
      ]
     },
     "execution_count": 48,
     "metadata": {},
     "output_type": "execute_result"
    }
   ],
   "source": [
    "len(df_tot.columns), len(df_tot_org)"
   ]
  },
  {
   "cell_type": "code",
   "execution_count": 60,
   "metadata": {},
   "outputs": [],
   "source": [
    "# find all columns\n",
    "cols = df_tot.columns\n",
    "\n",
    "# smiles code\n",
    "cols_smiles = 'SMILES'\n",
    "\n",
    "# node-edge level (3 footprints)\n",
    "cols_ecfp = list(cols[cols.str.contains('ecfp_')]) # ecfp 1024개\n",
    "cols_fcfp = list(cols[cols.str.contains('fcfp_')]) # fcfp 1024개\n",
    "cols_ptfp = list(cols[cols.str.contains('ptfp_')]) # ptfp 1024개\n",
    "\n",
    "# graph level\n",
    "cols_mol = ['MolWt', 'clogp', 'sa_score', 'qed']\n",
    "\n",
    "### new features\n",
    "cols_new_f = list(cols[cols.str.contains('myf_')])\n",
    "\n",
    "# input cols\n",
    "cols_input1 = cols_ecfp + cols_fcfp + cols_ptfp # don't have to normalize\n",
    "cols_input2 = cols_mol + cols_new_f # have to normalize\n",
    "cols_input  = cols_input1 + cols_input2\n",
    "\n",
    "# label\n",
    "cols_label = 'label'"
   ]
  },
  {
   "cell_type": "markdown",
   "metadata": {},
   "source": [
    "### CV start!"
   ]
  },
  {
   "cell_type": "code",
   "execution_count": 61,
   "metadata": {},
   "outputs": [],
   "source": [
    "n_splits     = 5\n",
    "random_state = 2021\n",
    "random_seed  = 2022\n",
    "data_random_seed = 2023\n",
    "feature_fraction_seed = 2024\n",
    "\n",
    "num_test     = len(df_test) # 927\n",
    "\n",
    "kfold = StratifiedKFold(n_splits=n_splits, random_state=random_state, shuffle=True)"
   ]
  },
  {
   "cell_type": "code",
   "execution_count": 62,
   "metadata": {},
   "outputs": [],
   "source": [
    "# x_train, y_train = df_train[cols_input].values, df_train[cols_label].values\n",
    "# x_valid, y_valid = df_valid[cols_input].values, df_valid[cols_label].values\n",
    "# x_test            = df_test[cols_input].values\n",
    "\n",
    "x_train, y_train = df_tot.loc[df_tot['type']=='train', cols_input].values, df_train[cols_label].values\n",
    "x_valid, y_valid = df_tot.loc[df_tot['type']=='valid', cols_input].values, df_valid[cols_label].values\n",
    "x_test           = df_tot.loc[df_tot['type']=='test', cols_input].values\n",
    "\n",
    "trainset_x = np.vstack([x_train, x_valid])\n",
    "trainset_y = np.hstack([y_train, y_valid])"
   ]
  },
  {
   "cell_type": "code",
   "execution_count": 63,
   "metadata": {},
   "outputs": [
    {
     "data": {
      "text/plain": [
       "((927, 3435), (6680, 3435))"
      ]
     },
     "execution_count": 63,
     "metadata": {},
     "output_type": "execute_result"
    }
   ],
   "source": [
    "x_test.shape, x_train.shape"
   ]
  },
  {
   "cell_type": "code",
   "execution_count": 53,
   "metadata": {},
   "outputs": [
    {
     "data": {
      "text/plain": [
       "{'objective': {'0': 'binary'},\n",
       " 'learning_rate': {'0': 0.01},\n",
       " 'num_leaves': {'0': 90},\n",
       " 'feature_fraction': {'0': 0.9},\n",
       " 'bagging_fraction': {'0': 0.8},\n",
       " 'bagging_freq': {'0': 1},\n",
       " 'boosting_type': {'0': 'dart'},\n",
       " 'metric': {'0': ['binary_logloss']},\n",
       " 'max_depth': {'0': 22}}"
      ]
     },
     "execution_count": 53,
     "metadata": {},
     "output_type": "execute_result"
    }
   ],
   "source": [
    "{\"objective\":{\"0\":\"binary\"},\"learning_rate\":{\"0\":0.01},\"num_leaves\":{\"0\":90},\n",
    " \"feature_fraction\":{\"0\":0.9},\"bagging_fraction\":{\"0\":0.8},\"bagging_freq\":{\"0\":1},\n",
    " \"boosting_type\":{\"0\":\"dart\"},\"metric\":{\"0\":[\"binary_logloss\"]},\"max_depth\":{\"0\":22}}"
   ]
  },
  {
   "cell_type": "code",
   "execution_count": 69,
   "metadata": {},
   "outputs": [],
   "source": [
    "params = {\n",
    "    'objective' :'binary',\n",
    "    'learning_rate' : 0.02,\n",
    "    'num_leaves' : 128,\n",
    "    'feature_fraction': 0.8, \n",
    "    'bagging_fraction': 0.7485324439812423, \n",
    "    'bagging_freq':8,\n",
    "    'boosting_type' : 'dart',\n",
    "    'metric': {'binary_logloss'},\n",
    "    'max_depth' : 24,\n",
    "    \"min_data_in_leaf\": 33\n",
    "}"
   ]
  },
  {
   "cell_type": "code",
   "execution_count": 70,
   "metadata": {},
   "outputs": [
    {
     "name": "stdout",
     "output_type": "stream",
     "text": [
      "Training until validation scores don't improve for 100 rounds.\n",
      "[100]\ttrain's binary_logloss: 0.497206\tval's binary_logloss: 0.540714\n",
      "[200]\ttrain's binary_logloss: 0.431597\tval's binary_logloss: 0.497091\n",
      "[300]\ttrain's binary_logloss: 0.368685\tval's binary_logloss: 0.464261\n",
      "[400]\ttrain's binary_logloss: 0.319525\tval's binary_logloss: 0.444367\n",
      "[500]\ttrain's binary_logloss: 0.274305\tval's binary_logloss: 0.428774\n",
      "[600]\ttrain's binary_logloss: 0.25701\tval's binary_logloss: 0.422366\n",
      "[700]\ttrain's binary_logloss: 0.229147\tval's binary_logloss: 0.414629\n",
      "[800]\ttrain's binary_logloss: 0.213475\tval's binary_logloss: 0.413391\n",
      "[900]\ttrain's binary_logloss: 0.191167\tval's binary_logloss: 0.408776\n",
      "[1000]\ttrain's binary_logloss: 0.177623\tval's binary_logloss: 0.409392\n",
      "Early stopping, best iteration is:\n",
      "[935]\ttrain's binary_logloss: 0.187565\tval's binary_logloss: 0.408468\n",
      "Fold 0 | Valid Accuracy: 0.8096947935368043, F1 Score: 0.8282937365010798\n",
      "Training until validation scores don't improve for 100 rounds.\n",
      "[100]\ttrain's binary_logloss: 0.496543\tval's binary_logloss: 0.545435\n",
      "[200]\ttrain's binary_logloss: 0.429351\tval's binary_logloss: 0.502785\n",
      "[300]\ttrain's binary_logloss: 0.36728\tval's binary_logloss: 0.470509\n",
      "[400]\ttrain's binary_logloss: 0.318332\tval's binary_logloss: 0.446114\n",
      "[500]\ttrain's binary_logloss: 0.274102\tval's binary_logloss: 0.428642\n",
      "[600]\ttrain's binary_logloss: 0.25636\tval's binary_logloss: 0.422224\n",
      "[700]\ttrain's binary_logloss: 0.229333\tval's binary_logloss: 0.412872\n",
      "[800]\ttrain's binary_logloss: 0.212638\tval's binary_logloss: 0.409652\n",
      "[900]\ttrain's binary_logloss: 0.190084\tval's binary_logloss: 0.404326\n",
      "[1000]\ttrain's binary_logloss: 0.175763\tval's binary_logloss: 0.401555\n",
      "[1100]\ttrain's binary_logloss: 0.161071\tval's binary_logloss: 0.40049\n",
      "[1200]\ttrain's binary_logloss: 0.152423\tval's binary_logloss: 0.399274\n",
      "[1300]\ttrain's binary_logloss: 0.141585\tval's binary_logloss: 0.397464\n",
      "Early stopping, best iteration is:\n",
      "[1263]\ttrain's binary_logloss: 0.14349\tval's binary_logloss: 0.396612\n",
      "Fold 1 | Valid Accuracy: 0.8150807899461401, F1 Score: 0.8346709470304975\n",
      "Training until validation scores don't improve for 100 rounds.\n",
      "[100]\ttrain's binary_logloss: 0.494017\tval's binary_logloss: 0.551718\n",
      "[200]\ttrain's binary_logloss: 0.427236\tval's binary_logloss: 0.511398\n",
      "[300]\ttrain's binary_logloss: 0.365422\tval's binary_logloss: 0.478669\n",
      "[400]\ttrain's binary_logloss: 0.316908\tval's binary_logloss: 0.45974\n",
      "[500]\ttrain's binary_logloss: 0.272455\tval's binary_logloss: 0.442955\n",
      "[600]\ttrain's binary_logloss: 0.254222\tval's binary_logloss: 0.437456\n",
      "[700]\ttrain's binary_logloss: 0.226525\tval's binary_logloss: 0.432252\n",
      "[800]\ttrain's binary_logloss: 0.209258\tval's binary_logloss: 0.427748\n",
      "[900]\ttrain's binary_logloss: 0.189528\tval's binary_logloss: 0.424719\n",
      "[1000]\ttrain's binary_logloss: 0.174985\tval's binary_logloss: 0.421425\n",
      "[1100]\ttrain's binary_logloss: 0.159971\tval's binary_logloss: 0.419757\n",
      "[1200]\ttrain's binary_logloss: 0.151667\tval's binary_logloss: 0.417842\n",
      "Early stopping, best iteration is:\n",
      "[1193]\ttrain's binary_logloss: 0.153558\tval's binary_logloss: 0.41766\n",
      "Fold 2 | Valid Accuracy: 0.8100659077291792, F1 Score: 0.8287412209616425\n",
      "Training until validation scores don't improve for 100 rounds.\n",
      "[100]\ttrain's binary_logloss: 0.491523\tval's binary_logloss: 0.557234\n",
      "[200]\ttrain's binary_logloss: 0.424477\tval's binary_logloss: 0.521304\n",
      "[300]\ttrain's binary_logloss: 0.362205\tval's binary_logloss: 0.493141\n",
      "[400]\ttrain's binary_logloss: 0.312913\tval's binary_logloss: 0.473704\n",
      "[500]\ttrain's binary_logloss: 0.268985\tval's binary_logloss: 0.457472\n",
      "[600]\ttrain's binary_logloss: 0.251766\tval's binary_logloss: 0.450669\n",
      "[700]\ttrain's binary_logloss: 0.224695\tval's binary_logloss: 0.444924\n",
      "[800]\ttrain's binary_logloss: 0.207623\tval's binary_logloss: 0.441839\n",
      "[900]\ttrain's binary_logloss: 0.186392\tval's binary_logloss: 0.439109\n",
      "[1000]\ttrain's binary_logloss: 0.172839\tval's binary_logloss: 0.437419\n",
      "[1100]\ttrain's binary_logloss: 0.15705\tval's binary_logloss: 0.435555\n",
      "[1200]\ttrain's binary_logloss: 0.148714\tval's binary_logloss: 0.43608\n",
      "Early stopping, best iteration is:\n",
      "[1108]\ttrain's binary_logloss: 0.158089\tval's binary_logloss: 0.435394\n",
      "Fold 3 | Valid Accuracy: 0.8034751348112642, F1 Score: 0.821350762527233\n",
      "Training until validation scores don't improve for 100 rounds.\n",
      "[100]\ttrain's binary_logloss: 0.494624\tval's binary_logloss: 0.555057\n",
      "[200]\ttrain's binary_logloss: 0.427497\tval's binary_logloss: 0.517533\n",
      "[300]\ttrain's binary_logloss: 0.365736\tval's binary_logloss: 0.485747\n",
      "[400]\ttrain's binary_logloss: 0.317\tval's binary_logloss: 0.464486\n",
      "[500]\ttrain's binary_logloss: 0.273726\tval's binary_logloss: 0.447193\n",
      "[600]\ttrain's binary_logloss: 0.255931\tval's binary_logloss: 0.441651\n",
      "[700]\ttrain's binary_logloss: 0.22869\tval's binary_logloss: 0.433475\n",
      "[800]\ttrain's binary_logloss: 0.211393\tval's binary_logloss: 0.427278\n",
      "[900]\ttrain's binary_logloss: 0.189986\tval's binary_logloss: 0.424209\n",
      "[1000]\ttrain's binary_logloss: 0.176184\tval's binary_logloss: 0.42324\n",
      "[1100]\ttrain's binary_logloss: 0.162\tval's binary_logloss: 0.421675\n",
      "[1200]\ttrain's binary_logloss: 0.15388\tval's binary_logloss: 0.420151\n",
      "[1300]\ttrain's binary_logloss: 0.142194\tval's binary_logloss: 0.42017\n",
      "[1400]\ttrain's binary_logloss: 0.128036\tval's binary_logloss: 0.420194\n",
      "Early stopping, best iteration is:\n",
      "[1362]\ttrain's binary_logloss: 0.134121\tval's binary_logloss: 0.419021\n",
      "Fold 4 | Valid Accuracy: 0.7986818454164171, F1 Score: 0.8207043756670224\n",
      "Valid Accuracy: 0.807399694287961, F1 Score: 0.826752208537495\n"
     ]
    }
   ],
   "source": [
    "val_f1, val_acc, val_loss = [], [], []\n",
    "results = np.zeros((kfold.n_splits, num_test), dtype=np.float)\n",
    "prob_results = np.zeros(len(trainset_x), dtype=np.float)\n",
    "\n",
    "for i, (train_idx, valid_idx) in enumerate(kfold.split(trainset_x, trainset_y)):\n",
    "    \n",
    "    # 데이터셋 나눔(train, valid & x,y)\n",
    "    x_train, y_train = trainset_x[train_idx], trainset_y[train_idx]\n",
    "    x_valid, y_valid = trainset_x[valid_idx], trainset_y[valid_idx]\n",
    "    x_test           = df_tot.loc[df_tot['type']=='test', cols_input].values\n",
    "    \n",
    "    # 트레인셋 기준으로 평균값, 표준편차 계산\n",
    "    ## 수치형 변수 기준\n",
    "    ### baseline : cols_input2(수치형)\n",
    "    cktpt = len(cols_input2)\n",
    "    tr_mean, tr_std = x_train[:, -cktpt:].mean(axis=0), x_train[:, -cktpt:].std(axis=0)\n",
    "    tr_max, tr_min  = x_train[:, -cktpt:].max(axis=0), x_train[:, -cktpt:].min(axis=0)\n",
    "    \n",
    "    # train/valid (std)\n",
    "    x_train[:,-cktpt:] = (x_train[:,-cktpt:] - tr_mean) / (tr_std + 1e-5)\n",
    "    x_valid[:,-cktpt:] = (x_valid[:,-cktpt:] - tr_mean) / (tr_std + 1e-5)\n",
    "    x_test[:,-cktpt:]  = (x_test[:,-cktpt:]  - tr_mean) / (tr_std + 1e-5)\n",
    "\n",
    "    # train/valid (minmax)    \n",
    "#     x_train[:,-cktpt:] = (x_train[:,-cktpt:] - tr_min) / (tr_max - tr_min + 1e-5)\n",
    "#     x_valid[:,-cktpt:] = (x_valid[:,-cktpt:] - tr_min) / (tr_std - tr_min + 1e-5)\n",
    "#     x_test[:,-cktpt:]  = (x_test[:,-cktpt:]  - tr_min) / (tr_std - tr_min + 1e-5)\n",
    "    \n",
    "    d_train = lgbm.Dataset(x_train, y_train)\n",
    "    d_valid = lgbm.Dataset(x_valid, y_valid)\n",
    "    \n",
    "    model = lgbm.train(params, d_train, 30000, valid_sets=[d_valid, d_train], valid_names=['val', 'train'],\n",
    "                       verbose_eval=100, early_stopping_rounds=100)\n",
    "    \n",
    "    valid_pred_prob = model.predict(x_valid, num_iteration=model.best_iteration)\n",
    "    prob_results[valid_idx] = valid_pred_prob\n",
    "    y_valid_pred = (valid_pred_prob > 0.5).astype(int)\n",
    "    \n",
    "    f1 = f1_score(y_valid, y_valid_pred)\n",
    "    acc = accuracy_score(y_valid, y_valid_pred)\n",
    "    loss = model.best_score['val']['binary_logloss']\n",
    "    \n",
    "    print(f'Fold {i} | Valid Accuracy: {acc}, F1 Score: {f1}')\n",
    "\n",
    "    results[i] = model.predict(x_test, num_iteration=model.best_iteration)\n",
    "    val_f1.append(f1)\n",
    "    val_acc.append(acc)\n",
    "    val_loss.append(loss)\n",
    "\n",
    "print(f'Valid Accuracy: {np.mean(val_acc)}, F1 Score: {np.mean(val_f1)}')"
   ]
  },
  {
   "cell_type": "code",
   "execution_count": 72,
   "metadata": {},
   "outputs": [],
   "source": [
    "df_result = df_tot[['type','SMILES','label']].copy()\n",
    "df_result.loc[:, '1'] = pd.Series(np.hstack([prob_results, results.mean(axis=0)]))\n",
    "df_result.loc[:, 'predict'] = (df_result['1'] > 0.5).astype(int)\n",
    "df_result = df_result[['type', 'SMILES', '1', 'label', 'predict']]"
   ]
  },
  {
   "cell_type": "code",
   "execution_count": 73,
   "metadata": {},
   "outputs": [],
   "source": [
    "OUTPUT_PATH = '/Users/skcc10170/Desktop/data/model_result/'\n",
    "output_name = 'model_acc_' + \"{:.4f}\".format(np.mean(val_acc)) \\\n",
    "                           + '_f1_' + \"{:.4f}\".format(np.mean(val_f1)) \\\n",
    "                           + '_loss_' + \"{:.4f}\".format(np.mean(val_loss)) \\\n",
    "                           + '.csv'"
   ]
  },
  {
   "cell_type": "code",
   "execution_count": 74,
   "metadata": {},
   "outputs": [
    {
     "name": "stdout",
     "output_type": "stream",
     "text": [
      "model_acc_0.8074_f1_0.8268_loss_0.4154.csv\n"
     ]
    }
   ],
   "source": [
    "df_result.to_csv(OUTPUT_PATH + output_name)\n",
    "print(output_name)"
   ]
  }
 ],
 "metadata": {
  "kernelspec": {
   "display_name": "Python 3",
   "language": "python",
   "name": "python3"
  },
  "language_info": {
   "codemirror_mode": {
    "name": "ipython",
    "version": 3
   },
   "file_extension": ".py",
   "mimetype": "text/x-python",
   "name": "python",
   "nbconvert_exporter": "python",
   "pygments_lexer": "ipython3",
   "version": "3.7.3"
  }
 },
 "nbformat": 4,
 "nbformat_minor": 4
}
